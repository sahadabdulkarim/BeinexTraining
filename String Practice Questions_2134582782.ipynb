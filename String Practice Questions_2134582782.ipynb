{
 "cells": [
  {
   "cell_type": "markdown",
   "id": "4f16576c",
   "metadata": {},
   "source": [
    "1. Write a program to find the number of vowels, consonents, digits and white space characters in a string.\n",
    "2. Write a program to make a new string with all the consonents deleted from the string \"Python's simplicity and readability make it a popular choice for beginners in programming.\".\n",
    "3. Write a program to make the string after the first occurrence of ',' and the string after the last occurrence of ',' in the string \"Hello, Good Morning, have a great day\". \n",
    "4. Write a Python program to get a string from a given string where all the repeated character replaced with \"_\" except the first occurrences of character itself (eg: \"hello\" -> \"hel_o\").\n",
    "5. Write a Python function to reverses a string if its length is a multiple of 5.\n",
    "6. Write a Python program to find smallest and largest word in a given string.\n",
    "7. Write a Python program find the common values that appear in two given strings.\n",
    "8. Calculate the sum and average of the digits present in the string \"python2764%#@10\".\n",
    "9. Write a program to split a given string on space and display each substring.\n",
    "10. Write a program to check if two strings are balanced. For example, strings s1 and s2 are balanced if all the characters in the s1 are present in s2. The character’s position doesn’t matter."
   ]
  },
  {
   "cell_type": "markdown",
   "id": "e9b425ef",
   "metadata": {},
   "source": [
    "# 1.Write a program to find the number of vowels, consonents, digits and white space characters in a string."
   ]
  },
  {
   "cell_type": "code",
   "execution_count": 14,
   "id": "557441c0",
   "metadata": {},
   "outputs": [
    {
     "name": "stdout",
     "output_type": "stream",
     "text": [
      "Enter a string: Beinex BE May/23\n",
      "Number of vowels: 5\n",
      "Number of consonants: 6\n",
      "Number of digits: 2\n",
      "Number of whitespace characters: 2\n"
     ]
    }
   ],
   "source": [
    "def count_characters(string):\n",
    "    vowels = 0\n",
    "    consonants = 0\n",
    "    digits = 0\n",
    "    whitespace = 0\n",
    "\n",
    "    for char in string:\n",
    "        if char.isalpha():\n",
    "            if char.lower() in 'aeiou':\n",
    "                vowels += 1\n",
    "            else:\n",
    "                consonants += 1\n",
    "        elif char.isdigit():\n",
    "            digits += 1\n",
    "        elif char.isspace():\n",
    "            whitespace += 1\n",
    "\n",
    "    return vowels, consonants, digits, whitespace\n",
    "\n",
    "input_string = input(\"Enter a string: \")\n",
    "v, c, d, w = count_characters(input_string)\n",
    "\n",
    "print(\"Number of vowels:\", v)\n",
    "print(\"Number of consonants:\", c)\n",
    "print(\"Number of digits:\", d)\n",
    "print(\"Number of whitespace characters:\", w)\n"
   ]
  },
  {
   "cell_type": "markdown",
   "id": "5519bc91",
   "metadata": {},
   "source": [
    "# 2. Write a program to make a new string with all the consonents deleted from the string \"Python's simplicity and readability make it a popular choice for beginners in programming.\"."
   ]
  },
  {
   "cell_type": "code",
   "execution_count": 21,
   "id": "02746efa",
   "metadata": {},
   "outputs": [
    {
     "name": "stdout",
     "output_type": "stream",
     "text": [
      "Original string: Python's simplicity and readability make it a popular choice for beginners in programming.\n",
      "String with consonants removed: o' iii a eaaii ae i a oua oie o eie i oai.\n"
     ]
    }
   ],
   "source": [
    "def remove_consonants(string):\n",
    "    vowels = \"aeiouAEIOU\"\n",
    "    new_string = \"\"\n",
    "    for char in string:\n",
    "        if char.isalpha() and char not in vowels:\n",
    "            continue\n",
    "        new_string += char\n",
    "    return new_string\n",
    "input_string = \"Python's simplicity and readability make it a popular choice for beginners in programming.\"\n",
    "new_string = remove_consonants(input_string)\n",
    "print(\"Original string:\", input_string)\n",
    "print(\"String with consonants removed:\", new_string)\n"
   ]
  },
  {
   "cell_type": "markdown",
   "id": "4ea350d0",
   "metadata": {},
   "source": [
    "# 3. Write a program to make the string after the first occurrence of ',' and the string after the last occurrence of ',' in the string \"Hello, Good Morning, have a great day\"."
   ]
  },
  {
   "cell_type": "code",
   "execution_count": 32,
   "id": "a35686dc",
   "metadata": {},
   "outputs": [
    {
     "name": "stdout",
     "output_type": "stream",
     "text": [
      "Original string: Hello, Good Morning, have a great day\n",
      "Substring after the first occurrence of ',':  Good Morning, have a great day\n",
      "Substring after the last occurrence of ',':  have a great day\n"
     ]
    }
   ],
   "source": [
    "def extract_substrings(string):\n",
    "    first_occurrence = string.find(',')\n",
    "    last_occurrence = string.rfind(',')\n",
    "    substring_after_first = string[first_occurrence + 1:]\n",
    "    substring_after_last = string[last_occurrence + 1:]\n",
    "    return substring_after_first, substring_after_last\n",
    "input_string = \"Hello, Good Morning, have a great day\"\n",
    "substring1, substring2 = extract_substrings(input_string)\n",
    "print(\"Original string:\", input_string)\n",
    "print(\"Substring after the first occurrence of ',':\", substring1)\n",
    "print(\"Substring after the last occurrence of ',':\", substring2)\n"
   ]
  },
  {
   "cell_type": "markdown",
   "id": "24d70b7f",
   "metadata": {},
   "source": [
    "# 4. Write a Python program to get a string from a given string where all the repeated character replaced with \"_\" except the first occurrences of character itself (eg: \"hello\" -> \"hel_o\")."
   ]
  },
  {
   "cell_type": "code",
   "execution_count": 39,
   "id": "c10518db",
   "metadata": {},
   "outputs": [
    {
     "name": "stdout",
     "output_type": "stream",
     "text": [
      "Enter the string: Beinex\n",
      "Modified string: Bein_x\n"
     ]
    }
   ],
   "source": [
    "def replace(string):\n",
    "    string_set = set()\n",
    "    new_string = \"\"\n",
    "\n",
    "    for char in string:\n",
    "        if char in string_set:\n",
    "            new_string += \"_\"\n",
    "        else:\n",
    "            string_set.add(char)\n",
    "            new_string += char\n",
    "\n",
    "    return new_string\n",
    "\n",
    "input_string = input(\"Enter the string: \")\n",
    "new_string = replace(input_string)\n",
    "\n",
    "print(\"Modified string:\", new_string)\n"
   ]
  },
  {
   "cell_type": "markdown",
   "id": "ed764348",
   "metadata": {},
   "source": [
    "# 5. Write a Python function to reverses a string if its length is a multiple of 5."
   ]
  },
  {
   "cell_type": "code",
   "execution_count": 43,
   "id": "35bac84b",
   "metadata": {},
   "outputs": [
    {
     "name": "stdout",
     "output_type": "stream",
     "text": [
      "Enter the string: Beinex BE \n",
      "Reversed string if length is a multiple of 5:  EB xenieB\n"
     ]
    }
   ],
   "source": [
    "def reverse_string(string):\n",
    "    if len(string) % 5 == 0:\n",
    "        return string[::-1]\n",
    "    else:\n",
    "        return string\n",
    "\n",
    "input_string = input(\"Enter the string: \")\n",
    "reversed_string = reverse_string(input_string)\n",
    "\n",
    "print(\"Reversed string if length is a multiple of 5:\", reversed_string)\n"
   ]
  },
  {
   "cell_type": "markdown",
   "id": "e6e2c940",
   "metadata": {},
   "source": [
    "# 6. Write a Python program to find smallest and largest word in a given string."
   ]
  },
  {
   "cell_type": "code",
   "execution_count": 48,
   "id": "dbf014fd",
   "metadata": {},
   "outputs": [
    {
     "name": "stdout",
     "output_type": "stream",
     "text": [
      "Original string: Hello, Good Morning, have a great day\n",
      "Smallest word: a\n",
      "Largest word: Morning,\n"
     ]
    }
   ],
   "source": [
    "def find_smallest_and_largest_word(string):\n",
    "    words = string.split()\n",
    "    smallest_word = min(words, key=len)\n",
    "    largest_word = max(words, key=len)\n",
    "\n",
    "    return smallest_word, largest_word\n",
    "\n",
    "input_string = \"Hello, Good Morning, have a great day\"\n",
    "smallest, largest = find_smallest_and_largest_word(input_string)\n",
    "\n",
    "print(\"Original string:\", input_string)\n",
    "print(\"Smallest word:\", smallest)\n",
    "print(\"Largest word:\", largest)\n"
   ]
  },
  {
   "cell_type": "markdown",
   "id": "7e88ca2d",
   "metadata": {},
   "source": [
    "# 7. Write a Python program find the common values that appear in two given strings."
   ]
  },
  {
   "cell_type": "code",
   "execution_count": 62,
   "id": "02c72bbe",
   "metadata": {},
   "outputs": [
    {
     "name": "stdout",
     "output_type": "stream",
     "text": [
      "String 1: Hello\n",
      "String 2: World\n",
      "Common values: ['l', 'o']\n"
     ]
    }
   ],
   "source": [
    "def common_values(string1, string2):\n",
    "    #finding the common values\n",
    "    common_values = set(string1) & set(string2)\n",
    "    common_values = sorted(common_values)\n",
    "\n",
    "    return common_values\n",
    "\n",
    "string1 = \"Hello\"\n",
    "string2 = \"World\"\n",
    "common_chars = common_values(string1, string2)\n",
    "\n",
    "print(\"String 1:\", string1)\n",
    "print(\"String 2:\", string2)\n",
    "print(\"Common values:\", common_chars)\n"
   ]
  },
  {
   "cell_type": "markdown",
   "id": "f4204647",
   "metadata": {},
   "source": [
    "# 8. Calculate the sum and average of the digits present in the string \"python2764%#@10\"."
   ]
  },
  {
   "cell_type": "code",
   "execution_count": 75,
   "id": "3f00fc79",
   "metadata": {},
   "outputs": [
    {
     "name": "stdout",
     "output_type": "stream",
     "text": [
      "Original string: python2764%#@10\n",
      "Sum of digits: 20\n",
      "Average of digits: 3.3333333333333335\n"
     ]
    }
   ],
   "source": [
    "def sum_and_average(string):\n",
    "    digits = [int(char) for char in string if char.isdigit()]\n",
    "\n",
    "    if len(digits) == 0:\n",
    "        return 0, 0\n",
    "\n",
    "    digit_sum = sum(digits)\n",
    "    digit_average = digit_sum / len(digits)\n",
    "\n",
    "    return digit_sum, digit_average\n",
    "\n",
    "input_string = \"python2764%#@10\"\n",
    "sum_of_digits, average_of_digits = sum_and_average(input_string)\n",
    "\n",
    "print(\"Original string:\", input_string)\n",
    "print(\"Sum of digits:\", sum_of_digits)\n",
    "print(\"Average of digits:\", average_of_digits)\n"
   ]
  },
  {
   "cell_type": "markdown",
   "id": "039dbc71",
   "metadata": {},
   "source": [
    "# 9. Write a program to split a given string on space and display each substring."
   ]
  },
  {
   "cell_type": "code",
   "execution_count": 108,
   "id": "6cb2eaf9",
   "metadata": {},
   "outputs": [
    {
     "name": "stdout",
     "output_type": "stream",
     "text": [
      "Substring:\n",
      " \n",
      "Hello,\n",
      "Good\n",
      "Morning,\n",
      "have\n",
      "a\n",
      "great\n",
      "day\n"
     ]
    }
   ],
   "source": [
    "def display_substrings(string):\n",
    "    substrings = string.split()\n",
    "\n",
    "    for substring in substrings:\n",
    "        print(substring)\n",
    "\n",
    "input_string = \"Hello, Good Morning, have a great day\"\n",
    "print(\"Substring:\\n \")\n",
    "display_substrings(input_string)\n"
   ]
  },
  {
   "cell_type": "markdown",
   "id": "6b87209e",
   "metadata": {},
   "source": [
    "# 10. Write a program to check if two strings are balanced. For example, strings s1 and s2 are balanced if all the characters in the s1 are present in s2. The character’s position doesn’t matter."
   ]
  },
  {
   "cell_type": "code",
   "execution_count": 126,
   "id": "b1c6fe68",
   "metadata": {},
   "outputs": [
    {
     "name": "stdout",
     "output_type": "stream",
     "text": [
      "String 1: hello\n",
      "String 2: olleh\n",
      "Are the strings balanced? True\n"
     ]
    }
   ],
   "source": [
    "def balanced_strings(s1, s2):\n",
    "    set_s1 = set(s1)\n",
    "    set_s2 = set(s2)\n",
    "\n",
    "    balanced = set_s1.issubset(set_s2)\n",
    "\n",
    "    return balanced\n",
    "\n",
    "s1 = \"hello\"\n",
    "s2 = \"olleh\"\n",
    "balanced = balanced_strings(s1, s2)\n",
    "\n",
    "print(\"String 1:\", s1)\n",
    "print(\"String 2:\", s2)\n",
    "print(\"Are the strings balanced?\", balanced)\n"
   ]
  }
 ],
 "metadata": {
  "kernelspec": {
   "display_name": "Python 3 (ipykernel)",
   "language": "python",
   "name": "python3"
  },
  "language_info": {
   "codemirror_mode": {
    "name": "ipython",
    "version": 3
   },
   "file_extension": ".py",
   "mimetype": "text/x-python",
   "name": "python",
   "nbconvert_exporter": "python",
   "pygments_lexer": "ipython3",
   "version": "3.9.13"
  }
 },
 "nbformat": 4,
 "nbformat_minor": 5
}
