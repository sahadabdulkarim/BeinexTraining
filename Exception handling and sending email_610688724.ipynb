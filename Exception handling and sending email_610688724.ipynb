{
 "cells": [
  {
   "cell_type": "markdown",
   "id": "fe99f970",
   "metadata": {},
   "source": [
    "1.Write a Python program that prompts the user to enter an integer and handles the ValueError exception if the user enters a non-integer value.\n",
    "\n",
    "2.Create a program that opens a file and reads its contents. Use a try-except block to handle the FileNotFoundError exception and display a custom error message if the file does not exist.\n",
    "\n",
    "3.Write a program that calculates the division of two numbers entered by the user. Use a try-except block to handle the ZeroDivisionError exception and display an appropriate error message if the user tries to divide by zero.\n",
    "\n",
    "4.Create a program that attempts to connect to a website and prints the HTML content if successful. Use a try-except-else block to handle the requests.exceptions.RequestException exception and display an error message if the connection fails.\n",
    "\n",
    "5.Write a program that opens a file, reads its contents, and writes the contents to a new file. Use a try-except-finally block to ensure that the file is closed even if an exception occurs during the file operations.\n",
    "\n",
    "6.Write a Python program that reads email details (sender, recipient, subject, and body) from user input and sends the email using Mailtrap as the SMTP server.\n",
    "\n",
    "7.write a python program to send an email with multiple recipients using the smtplib library.\n",
    "\n",
    "8.write a python program to handle exceptions when sending emails using Python's smtplib library.\n",
    "\n",
    "9.Write a Python program that prompts the user to enter their age. Define a custom exception called InvalidAgeError that is raised when the entered age is less than 0 or greater than 150. Handle the InvalidAgeError exception and display an appropriate error message.\n",
    "\n",
    "10.Write a Python program that simulates a banking system. Implement a class called BankAccount with methods to initialize an account with a starting balance, withdraw funds, and handle a custom exception called NegativeBalanceError when the account balance goes below zero."
   ]
  },
  {
   "cell_type": "markdown",
   "id": "e549a1f8",
   "metadata": {},
   "source": [
    "# 1.Write a Python program that prompts the user to enter an integer and handles the ValueError exception if the user enters a non-integer value.\n"
   ]
  },
  {
   "cell_type": "code",
   "execution_count": 8,
   "id": "9d4ec441",
   "metadata": {},
   "outputs": [
    {
     "name": "stdout",
     "output_type": "stream",
     "text": [
      "Enter an integer: we\n",
      "Oops!  That was no valid number.  Try again...\n"
     ]
    }
   ],
   "source": [
    "def error_handle():\n",
    "    try:\n",
    "        a=int(input(\"Enter an integer: \"))\n",
    "        print(\"Entered interger is \",a)\n",
    "    except ValueError:\n",
    "        print(\"Oops!  That was no valid number.  Try again...\")\n",
    "\n",
    "error_handle()"
   ]
  },
  {
   "cell_type": "markdown",
   "id": "46315868",
   "metadata": {},
   "source": [
    "# 2.Create a program that opens a file and reads its contents. Use a try-except block to handle the FileNotFoundError exception and display a custom error message if the file does not exist."
   ]
  },
  {
   "cell_type": "code",
   "execution_count": 9,
   "id": "4688ee74",
   "metadata": {},
   "outputs": [
    {
     "name": "stdout",
     "output_type": "stream",
     "text": [
      "Enter the file name: as\n",
      "Error: File \"as\" does not exist.\n"
     ]
    }
   ],
   "source": [
    "filename = input(\"Enter the file name: \")\n",
    "try:\n",
    "    with open(filename,\"r\") as file:\n",
    "        contents=file.read()\n",
    "        print(f'File Contents: {contents}')\n",
    "except FileNotFoundError:\n",
    "    print(f'Error: File \"{filename}\" does not exist.')"
   ]
  },
  {
   "cell_type": "markdown",
   "id": "63846aa7",
   "metadata": {},
   "source": [
    "# 3.Write a program that calculates the division of two numbers entered by the user. Use a try-except block to handle the ZeroDivisionError exception and display an appropriate error message if the user tries to divide by zero."
   ]
  },
  {
   "cell_type": "code",
   "execution_count": 16,
   "id": "c3026b97",
   "metadata": {},
   "outputs": [
    {
     "name": "stdout",
     "output_type": "stream",
     "text": [
      "Enter the numberator: 12\n",
      "Enter the denomenator: 0\n",
      "Error: Division by zero is not allowed.\n"
     ]
    }
   ],
   "source": [
    "\n",
    "try:\n",
    "    numerator=float(input(\"Enter the numberator: \"))\n",
    "    denomenator=float(input(\"Enter the denomenator: \"))\n",
    "    \n",
    "    result=numerator/denomenator\n",
    "    print(f'Result: {result}')\n",
    "except ZeroDivisionError:\n",
    "    print(\"Error: Division by zero is not allowed.\")"
   ]
  },
  {
   "cell_type": "markdown",
   "id": "7f8b3405",
   "metadata": {},
   "source": [
    "# 4.Create a program that attempts to connect to a website and prints the HTML content if successful. Use a try-except-else block to handle the requests.exceptions.RequestException exception and display an error message if the connection fails."
   ]
  },
  {
   "cell_type": "code",
   "execution_count": 32,
   "id": "d7c1fc6d",
   "metadata": {},
   "outputs": [
    {
     "name": "stdout",
     "output_type": "stream",
     "text": [
      "Error connecting to https://e.com\n",
      "\n",
      "Connected to https://google.com successfully\n",
      "HTML content:\n",
      "content is too long to print, we can use 'response.text' to print the contents\n"
     ]
    }
   ],
   "source": [
    "import requests\n",
    "\n",
    "urls = [\n",
    "    \"https://e.com\",\n",
    "    \"https://google.com\"\n",
    "]\n",
    "\n",
    "for url in urls:\n",
    "    try:\n",
    "        response=requests.get(url)\n",
    "    except requests.exceptions.RequestException:\n",
    "        print(f\"Error connecting to {url}\\n\")\n",
    "    else:\n",
    "        print(f\"Connected to {url} successfully\")\n",
    "        print(\"HTML content:\")\n",
    "        print(\"content is too long to print, we can use 'response.text' to print the contents\")"
   ]
  },
  {
   "cell_type": "markdown",
   "id": "c278e461",
   "metadata": {},
   "source": [
    "# 5.Write a program that opens a file, reads its contents, and writes the contents to a new file. Use a try-except-finally block to ensure that the file is closed even if an exception occurs during the file operations."
   ]
  },
  {
   "cell_type": "code",
   "execution_count": 37,
   "id": "6a7bc5f5",
   "metadata": {},
   "outputs": [
    {
     "name": "stdout",
     "output_type": "stream",
     "text": [
      "Error occurred during file operations: [Errno 2] No such file or directory: 'source_file.txt'\n",
      "File operations completed.\n"
     ]
    }
   ],
   "source": [
    "try:\n",
    "#  'with' statement ensures that the files are automatically closed \n",
    "    with open(\"source_file.txt\", \"r\") as source_file:\n",
    "        contents=source_file.read()\n",
    "    \n",
    "    with open(\"destination_file.txt\", \"w\") as destination_file:\n",
    "        destination_file.write(contents)\n",
    "    \n",
    "except IOError as e:\n",
    "    print(f\"Error occurred during file operations: {e}\")\n",
    "finally:    \n",
    "    print(\"File operations completed.\")"
   ]
  },
  {
   "cell_type": "markdown",
   "id": "29070b3f",
   "metadata": {},
   "source": [
    "# 6.Write a Python program that reads email details (sender, recipient, subject, and body) from user input and sends the email using Mailtrap as the SMTP server."
   ]
  },
  {
   "cell_type": "code",
   "execution_count": 53,
   "id": "f3490a13",
   "metadata": {},
   "outputs": [
    {
     "name": "stdout",
     "output_type": "stream",
     "text": [
      "Enter sender email address: beinex@gmail.com\n",
      "Enter recipient email address: sahad@gmail.com\n",
      "Enter email subject: asasasa\n",
      "Enter email body: sasasasas\n",
      "Email sent successfully!\n"
     ]
    }
   ],
   "source": [
    "# import smtplib\n",
    "from email.mime.text import MIMEText\n",
    "\n",
    "# Prompt user for email details\n",
    "sender = input(\"Enter sender email address: \")\n",
    "recipient = input(\"Enter recipient email address: \")\n",
    "subject = input(\"Enter email subject: \")\n",
    "body = input(\"Enter email body: \")\n",
    "\n",
    "# server configuration\n",
    "email_host = 'sandbox.smtp.mailtrap.io'\n",
    "email_host_user = '15b874a09a32ba'\n",
    "email_host_password = '8ab1fcae7dab5d'\n",
    "email_port = 2525\n",
    "\n",
    "# Create email message\n",
    "message = MIMEText(body)\n",
    "message['From'] = sender\n",
    "message['To'] = recipient\n",
    "message['Subject'] = subject\n",
    "\n",
    "\n",
    "try:\n",
    "    # Connect to Mailtrap SMTP server\n",
    "    with smtplib.SMTP(email_host, email_port) as server:\n",
    "        server.login(email_host_user, email_host_password)\n",
    "        # Send email\n",
    "        server.sendmail(sender, recipient, message.as_string())\n",
    "    print(\"Email sent successfully!\")\n",
    "except smtplib.SMTPException as e:\n",
    "    print(\"An error occurred while sending the email:\", str(e))"
   ]
  },
  {
   "cell_type": "markdown",
   "id": "87a0a3cc",
   "metadata": {},
   "source": [
    "# 7.write a python program to send an email with multiple recipients using the smtplib library."
   ]
  },
  {
   "cell_type": "code",
   "execution_count": 52,
   "id": "36a75c0d",
   "metadata": {
    "scrolled": true
   },
   "outputs": [
    {
     "name": "stdout",
     "output_type": "stream",
     "text": [
      "Enter sender email address: beinex@gmail.com\n",
      "Enter recipient email addresses (comma-separated): sahad@gmail.com, karim@gmail.com, abdul@gmail.com\n",
      "Enter email subject: sasasasas\n",
      "Enter email body: sasasasasas\n",
      "Email sent successfully!\n"
     ]
    }
   ],
   "source": [
    "import smtplib\n",
    "from email.mime.text import MIMEText\n",
    "\n",
    "# Prompt user for email details\n",
    "sender = input(\"Enter sender email address: \")\n",
    "recipients = input(\"Enter recipient email addresses (comma-separated): \").split(\",\")\n",
    "subject = input(\"Enter email subject: \")\n",
    "body = input(\"Enter email body: \")\n",
    "\n",
    "# Server configuration\n",
    "email_host = 'sandbox.smtp.mailtrap.io'\n",
    "email_host_user = '15b874a09a32ba'\n",
    "email_host_password = '8ab1fcae7dab5d'\n",
    "email_port = 2525\n",
    "\n",
    "# Create email message\n",
    "message = MIMEText(body)\n",
    "message['From'] = sender\n",
    "message['To'] = ', '.join(recipients)\n",
    "message['Subject'] = subject\n",
    "\n",
    "try:\n",
    "    # Connect to Mailtrap SMTP server\n",
    "    with smtplib.SMTP(email_host, email_port) as server:\n",
    "        server.login(email_host_user, email_host_password)\n",
    "        # Send email\n",
    "        server.sendmail(sender, recipients, message.as_string())\n",
    "    print(\"Email sent successfully!\")\n",
    "except smtplib.SMTPException as e:\n",
    "    print(\"An error occurred while sending the email:\", str(e))\n"
   ]
  },
  {
   "cell_type": "markdown",
   "id": "17ffa720",
   "metadata": {},
   "source": [
    "# 8.write a python program to handle exceptions when sending emails using Python's smtplib library."
   ]
  },
  {
   "cell_type": "code",
   "execution_count": 69,
   "id": "d2bf23f5",
   "metadata": {},
   "outputs": [
    {
     "name": "stdout",
     "output_type": "stream",
     "text": [
      "An error occurred: [Errno 11001] getaddrinfo failed\n"
     ]
    }
   ],
   "source": [
    "import smtplib\n",
    "from smtplib import SMTPException\n",
    "\n",
    "email_host = 'this.is.a.wrong.adrdr' #here address is wrong\n",
    "email_host_user = '15b874a09a32ba'\n",
    "email_host_password = '8ab1fcae7dab5d'\n",
    "email_port = 2525\n",
    "\n",
    "sender = 'sender@example.com'\n",
    "recipient = 'recipient@example.com'\n",
    "subject = 'Test Email'\n",
    "message = 'This is a test email.'\n",
    "\n",
    "try:\n",
    "    with smtplib.SMTP(email_host, email_port) as server:\n",
    "        server.login(email_host_user, email_host_password)\n",
    "\n",
    "        # Create email message\n",
    "        msg = MIMEText(message)\n",
    "        msg['From'] = sender\n",
    "        msg['To'] = recipient\n",
    "        msg['Subject'] = subject\n",
    "\n",
    "        # Send the email\n",
    "        server.sendmail(sender, recipients, msg.as_string())\n",
    "        \n",
    "    print('Email sent successfully!')\n",
    "\n",
    "except SMTPException as e:\n",
    "    print('Error occurred while sending email:', str(e))\n",
    "except Exception as e:\n",
    "    print('An error occurred:', str(e))\n"
   ]
  },
  {
   "cell_type": "markdown",
   "id": "14893e83",
   "metadata": {},
   "source": [
    "# 9.Write a Python program that prompts the user to enter their age. Define a custom exception called InvalidAgeError that is raised when the entered age is less than 0 or greater than 150. Handle the InvalidAgeError exception and display an appropriate error message."
   ]
  },
  {
   "cell_type": "code",
   "execution_count": 81,
   "id": "6ad7c650",
   "metadata": {},
   "outputs": [
    {
     "name": "stdout",
     "output_type": "stream",
     "text": [
      "Valid age: 25\n",
      "\n",
      "Invalid age: -10\n",
      "Error: Invalid age entered.\n",
      "\n",
      "Valid age: 35\n",
      "\n",
      "Invalid age: 160\n",
      "Error: Invalid age entered.\n",
      "\n",
      "Valid age: 42\n",
      "\n"
     ]
    }
   ],
   "source": [
    "class InvalidAgeError(Exception):\n",
    "    pass\n",
    "\n",
    "def get_age(age):\n",
    "    if age < 0 or age > 150:\n",
    "        raise InvalidAgeError(\"Invalid age entered.\")\n",
    "    return age\n",
    "\n",
    "ages = [25, -10, 35, 160, 42]\n",
    "\n",
    "for age in ages:\n",
    "    try:\n",
    "        validated_age = get_age(age)\n",
    "        print(f\"Valid age: {validated_age}\\n\")\n",
    "    except InvalidAgeError as e:\n",
    "        print(\"Invalid age:\", age)\n",
    "        print(f'Error: {str(e)}\\n')\n"
   ]
  },
  {
   "cell_type": "markdown",
   "id": "40bcf726",
   "metadata": {},
   "source": [
    "# 10.Write a Python program that simulates a banking system. Implement a class called BankAccount with methods to initialize an account with a starting balance, withdraw funds, and handle a custom exception called NegativeBalanceError when the account balance goes below zero."
   ]
  },
  {
   "cell_type": "code",
   "execution_count": 99,
   "id": "07891558",
   "metadata": {},
   "outputs": [
    {
     "name": "stdout",
     "output_type": "stream",
     "text": [
      "amount to withdraw: 200\n",
      "Withdraw 200 . Remaining balance: 800\n",
      "\n",
      "amount to withdraw: 900\n",
      "Error: account balance will be negative for this withdraw\n",
      "\n",
      "Current balance: 800\n"
     ]
    }
   ],
   "source": [
    "class NegativeBalanceError(Exception):\n",
    "    message=\"account balance will be negative for this withdraw\"\n",
    "    \n",
    "\n",
    "class BankAccount:\n",
    "    def __init__(self, initial_balance):\n",
    "        self.balance = initial_balance\n",
    "    def withdraw(self, amount):\n",
    "        if self.balance - amount < 0:\n",
    "            raise NegativeBalanceError(\"Withdrawal amount exceeds account balance\")\n",
    "        self.balance -= amount\n",
    "        print(f\"Withdraw {amount} . Remaining balance: {self.balance}\\n\")\n",
    "    def get_balance(self):\n",
    "        return self.balance\n",
    "\n",
    "account = BankAccount(1000)\n",
    "try:\n",
    "    print(\"amount to withdraw: 200\")\n",
    "    account.withdraw(200)\n",
    "    print(\"amount to withdraw: 900\")\n",
    "    account.withdraw(900)\n",
    "except NegativeBalanceError as e:\n",
    "    print(f\"Error: {e.message}\\n\")\n",
    "print(f\"Current balance: {account.get_balance()}\")"
   ]
  }
 ],
 "metadata": {
  "kernelspec": {
   "display_name": "Python 3 (ipykernel)",
   "language": "python",
   "name": "python3"
  },
  "language_info": {
   "codemirror_mode": {
    "name": "ipython",
    "version": 3
   },
   "file_extension": ".py",
   "mimetype": "text/x-python",
   "name": "python",
   "nbconvert_exporter": "python",
   "pygments_lexer": "ipython3",
   "version": "3.9.13"
  }
 },
 "nbformat": 4,
 "nbformat_minor": 5
}
