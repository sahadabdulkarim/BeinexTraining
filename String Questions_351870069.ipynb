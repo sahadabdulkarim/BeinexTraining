{
 "cells": [
  {
   "cell_type": "markdown",
   "id": "781f42c0",
   "metadata": {},
   "source": [
    "1. Write a python program which take user's first and last name and return user email like \"first_name.last_name@beinex.com\"\n",
    "2. Write a Python program to get a string made of the first 2 and last 2 characters of a given string. If the string length is less than 2, return the empty string instead.\n",
    "3. Write a program to remove duplicates in a string.\n",
    "4. Write a Python program to count the occurrence of each character in a word.\n",
    "5. Python program to convert lower letter to upper and upper letter to lower in a string.\n",
    "6. Write a Python program that take a password as user input and returns True if the password meets the following criteria, and False with error message otherwise:\n",
    "\n",
    "\t1. The password must be at least 8 characters long.\n",
    "\t2. The password must contain at least one uppercase letter.\n",
    "\t3. The password must contain at least one lowercase letter.\n",
    "\t4. The password must contain at least one digit.\n",
    "\t5. The password must contain at least one special character (such as \"!@#$%^&*()_-+=\")."
   ]
  },
  {
   "cell_type": "markdown",
   "id": "1efcb40f",
   "metadata": {},
   "source": [
    "# 1. Write a python program which take user's first and last name and return user email like \"first_name.last_name@beinex.com\""
   ]
  },
  {
   "cell_type": "code",
   "execution_count": 5,
   "id": "dd8b48b1",
   "metadata": {},
   "outputs": [
    {
     "name": "stdout",
     "output_type": "stream",
     "text": [
      "Enter your first name to genarate email: sahad\n",
      "Enter your last name to genarate email: karim\n",
      "Successfully generated email: sahad.karim@beinex.com\n"
     ]
    }
   ],
   "source": [
    "def email(first_name,last_name):\n",
    "    email=first_name+\".\"+last_name+\"@beinex.com\"\n",
    "    return email\n",
    "fName=input(\"Enter your first name to genarate email: \")\n",
    "lName=input(\"Enter your last name to genarate email: \")\n",
    "generated_email=email(fName,lName)\n",
    "print(f'Successfully generated email: {generated_email}')"
   ]
  },
  {
   "cell_type": "markdown",
   "id": "c274a621",
   "metadata": {},
   "source": [
    "# 2. Write a Python program to get a string made of the first 2 and last 2 characters of a given string. If the string length is less than 2, return the empty string instead."
   ]
  },
  {
   "cell_type": "code",
   "execution_count": 9,
   "id": "382b14d1",
   "metadata": {},
   "outputs": [
    {
     "name": "stdout",
     "output_type": "stream",
     "text": [
      "Enter the string: sahad\n",
      "New string is: saad\n"
     ]
    }
   ],
   "source": [
    "def generate(word):\n",
    "    if len(word)<2:\n",
    "        return \"\"\n",
    "    else:\n",
    "        new_word=word[0]+word[1]+word[-2]+word[-1]\n",
    "    return new_word\n",
    "word=input(\"Enter the string: \")\n",
    "new_word=generate(word)\n",
    "print(f'New string is: {new_word}')"
   ]
  },
  {
   "cell_type": "markdown",
   "id": "29742f01",
   "metadata": {},
   "source": [
    "#  3. Write a program to remove duplicates in a string."
   ]
  },
  {
   "cell_type": "code",
   "execution_count": 19,
   "id": "b4c3c329",
   "metadata": {},
   "outputs": [
    {
     "name": "stdout",
     "output_type": "stream",
     "text": [
      "Enter the string: sahad\n"
     ]
    },
    {
     "data": {
      "text/plain": [
       "'sahd'"
      ]
     },
     "execution_count": 19,
     "metadata": {},
     "output_type": "execute_result"
    }
   ],
   "source": [
    "def rem_duplicate(word):\n",
    "    word_set=set()\n",
    "    word_list=[]\n",
    "    for i in word:\n",
    "        if i not in word_set:\n",
    "            word_set.add(i)\n",
    "            word_list.append(i)\n",
    "    return ''.join(word_list)\n",
    "word=input(\"Enter the string: \")\n",
    "rem_duplicate(word)"
   ]
  },
  {
   "cell_type": "markdown",
   "id": "469e9aad",
   "metadata": {},
   "source": [
    "# 4. Write a Python program to count the occurrence of each character in a word."
   ]
  },
  {
   "cell_type": "code",
   "execution_count": 21,
   "id": "16b609b3",
   "metadata": {},
   "outputs": [
    {
     "name": "stdout",
     "output_type": "stream",
     "text": [
      "Enter the word to find word count: sahad\n",
      "The frequency of the letters in the word sahad is {'s': 1, 'a': 2, 'h': 1, 'd': 1}\n"
     ]
    }
   ],
   "source": [
    "def count(word):\n",
    "    freq={}\n",
    "    for i in word:\n",
    "        if i in freq:\n",
    "            freq[i]+=1\n",
    "        else:\n",
    "            freq[i]=1\n",
    "    return freq\n",
    "word=input(\"Enter the word to find word count: \")\n",
    "result=count(word)\n",
    "print(f'The frequency of the letters in the word {word} is {result}')    "
   ]
  },
  {
   "cell_type": "markdown",
   "id": "78228477",
   "metadata": {},
   "source": [
    "# 5. Python program to convert lower letter to upper and upper letter to lower in a string."
   ]
  },
  {
   "cell_type": "code",
   "execution_count": 28,
   "id": "f13d25ce",
   "metadata": {},
   "outputs": [
    {
     "name": "stdout",
     "output_type": "stream",
     "text": [
      "Enter the word: BeineX\n",
      "Updates word is bEINEx\n"
     ]
    }
   ],
   "source": [
    "def changecase(word):\n",
    "    word_list=list(word)\n",
    "    for i in range(len(word_list)):\n",
    "        if word_list[i].isupper():\n",
    "            word_list[i]=word_list[i].lower()\n",
    "        else:\n",
    "            word_list[i]=word_list[i].upper()\n",
    "    return ''.join(word_list)\n",
    "word=input(\"Enter the word: \")\n",
    "result=changecase(word)\n",
    "print(f'Updates word is {result}')"
   ]
  },
  {
   "cell_type": "markdown",
   "id": "fe73d435",
   "metadata": {},
   "source": [
    "# 6. Write a Python program that take a password as user input and returns True if the password meets the following criteria, and False with error message otherwise:\n",
    "\n",
    "\t1. The password must be at least 8 characters long.\n",
    "\t2. The password must contain at least one uppercase letter.\n",
    "\t3. The password must contain at least one lowercase letter.\n",
    "\t4. The password must contain at least one digit.\n",
    "\t5. The password must contain at least one special character (such as \"!@#$%^&*()_-+=\")."
   ]
  },
  {
   "cell_type": "code",
   "execution_count": 54,
   "id": "1bf26af6",
   "metadata": {},
   "outputs": [
    {
     "name": "stdout",
     "output_type": "stream",
     "text": [
      "Enter your password: Beinex@00\n",
      "Password is valid.\n"
     ]
    }
   ],
   "source": [
    "import string\n",
    "def check_password(password):\n",
    "    if len(password) < 8:\n",
    "        return False, \"Password must be at least 8 characters long.\"\n",
    "    if not any(char.isupper() for char in password):\n",
    "        return False, \"Password must contain at least one uppercase letter.\"\n",
    "    if not any(char.islower() for char in password):\n",
    "        return False, \"Password must contain at least one lowercase letter.\"\n",
    "    if not any(char.isdigit() for char in password):\n",
    "        return False, \"Password must contain at least one digit.\"\n",
    "    if not any(char in string.punctuation for char in password):\n",
    "        return False, \"Password must contain at least one special character (!@#$%^&*()_-+=).\"\n",
    "    return True, \"Password is valid.\"\n",
    "password=input(\"Enter your password: \")\n",
    "valid, message = check_password(password)\n",
    "if valid:\n",
    "    print(\"Password is valid.\")\n",
    "else:\n",
    "    print(message)\n",
    "    print(\"Password is not valid.\")"
   ]
  }
 ],
 "metadata": {
  "kernelspec": {
   "display_name": "Python 3 (ipykernel)",
   "language": "python",
   "name": "python3"
  },
  "language_info": {
   "codemirror_mode": {
    "name": "ipython",
    "version": 3
   },
   "file_extension": ".py",
   "mimetype": "text/x-python",
   "name": "python",
   "nbconvert_exporter": "python",
   "pygments_lexer": "ipython3",
   "version": "3.9.13"
  }
 },
 "nbformat": 4,
 "nbformat_minor": 5
}
