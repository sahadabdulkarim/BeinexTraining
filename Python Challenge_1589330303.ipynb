{
 "cells": [
  {
   "cell_type": "markdown",
   "id": "9eb675db",
   "metadata": {},
   "source": [
    "                                            Python Challenge\n",
    "\n",
    "1. Implement a program that reads a text file and counts the occurrences of each word,\n",
    "ignoring case sensitivity.\n",
    "2. Write a Python function that takes a list of strings as input and returns a new list with\n",
    "the strings sorted in descending order of their lengths.\n",
    "3. Write a function that takes a list of numbers as input and returns the second-largest\n",
    "number.\n",
    "4. Write a Python program that takes a list of integers as input and returns a new list\n",
    "with only the numbers that are prime.\n",
    "5. Write a Python function that takes a list of integers as input and returns a new list\n",
    "with only the numbers that are perfect squares.\n",
    "6. Write a Python function that takes a list of numbers as input and returns the sum of\n",
    "all the numbers divisible by 3 or 5.\n",
    "7. Write a Python function called calculate_discounted_price that takes the original\n",
    "price of an item and a discount percentage as input. The function should return the\n",
    "discounted price after applying the discount. Ensure that the function handles the\n",
    "case where the discount percentage is negative and raises a custom exception\n",
    "called InvalidDiscountError with an appropriate error message.\n",
    "8. Write a function that takes a sentence as input and returns a new sentence with the\n",
    "words reversed, while keeping the order of the words in the sentence.\n",
    "9. Implement a program that simulates a basic calculator, allowing users to perform\n",
    "arithmetic operations (addition, subtraction, multiplication, division) on two numbers.\n",
    "10. Create a class named Notes for handling text-based file operations.\n",
    "Class should contain methods \"write\", \"read\" and then \"append\" as instance methods\n",
    "or class methods. (Can contain any other methods if you wish)\n",
    "Use a single file for saving the notes. You can set the file name as a constant\n",
    "somewhere in the program (Or as a class variable).\n",
    "write method should create the if it doesn't exist, Then it should overwrite the older\n",
    "contents with the user input if the user plans to overwrite the file.\n",
    "read method should read the whole file contents and return it. If the file doesn't exist,\n",
    "then it should return \"No notes found\"\n",
    "append method should take the user input value and it must add the value to the end\n",
    "of the file. It must not overwrite the file.\n",
    "Now create a program to utilize this class. The program should repeatedly ask the\n",
    "user for these 4 choices :\n",
    "1 - Write Note (Overwrite existing).\n",
    "2 - Add more Notes (Append).\n",
    "3 - Read Notes.\n",
    "4 - Exit."
   ]
  },
  {
   "cell_type": "markdown",
   "id": "39954f79",
   "metadata": {},
   "source": [
    "# 1. Implement a program that reads a text file and counts the occurrences of each word, ignoring case sensitivity."
   ]
  },
  {
   "cell_type": "code",
   "execution_count": 81,
   "id": "6191cc43",
   "metadata": {},
   "outputs": [
    {
     "name": "stdout",
     "output_type": "stream",
     "text": [
      "\"example.txt\":\n",
      "This is a sample text. It contains words. 123 The words 123 may repeat. Repeat words are counted.\n",
      "This is a sample text. It contains words. 123 The words 123 may repeat. Repeat words are counted.\n",
      "This is a sample text. It contains words. 123 The words 123 may repeat. Repeat words are counted.\n",
      "\n",
      "Frequency of words in 'example.txt': \n",
      "\n",
      "this: 3\n",
      "is: 3\n",
      "a: 3\n",
      "sample: 3\n",
      "text: 3\n",
      "it: 3\n",
      "contains: 3\n",
      "words: 9\n",
      "the: 3\n",
      "may: 3\n",
      "repeat: 6\n",
      "are: 3\n",
      "counted: 3\n"
     ]
    }
   ],
   "source": [
    "# Python regular expression for pattern matching, searching, and manipulating strings\n",
    "import re\n",
    "\n",
    "# Counter for counting the occurrences of elements in an iterable \n",
    "from collections import Counter\n",
    "\n",
    "def count_words(filename):\n",
    "    with open(filename, 'r') as file:\n",
    "        text = file.read()\n",
    "        \n",
    "    print(f'\"example.txt\":\\n{text}\\n')\n",
    "    print(\"Frequency of words in 'example.txt': \\n\")\n",
    "    # to return a list of all words in lower case without any digits    \n",
    "    words = re.findall(r'[a-zA-Z]+', text.lower()) \n",
    "    \n",
    "    # to create a counter object that counts occurence of each word in the list 'words' and returns a dictionary-like object\n",
    "    word_counts = Counter(words) \n",
    "    for word, count in word_counts.items():\n",
    "        print(f'{word}: {count}')\n",
    "\n",
    "count_words('example.txt')\n"
   ]
  },
  {
   "cell_type": "markdown",
   "id": "4d8f0f21",
   "metadata": {},
   "source": [
    "# 2. Write a Python function that takes a list of strings as input and returns a new list with the strings sorted in descending order of their lengths."
   ]
  },
  {
   "cell_type": "code",
   "execution_count": 95,
   "id": "6f8eaa6a",
   "metadata": {},
   "outputs": [
    {
     "name": "stdout",
     "output_type": "stream",
     "text": [
      "List of strings before sorting:\n",
      "\n",
      "Hello, world!\n",
      "Python is amazing!\n",
      "I love cycling.\n",
      "The sky is blue.\n",
      "Today is a beautiful day.\n",
      "Python is a versatile programming language.\n",
      "Learning new things is exciting.\n",
      "Life is full of possibilities.\n",
      "Music brings joy to my soul.\n",
      "I love books on self improvement\n",
      "--------------------------------------------------------------\n",
      "List of strings after sorting:\n",
      "\n",
      "Python is a versatile programming language.\n",
      "Learning new things is exciting.\n",
      "I love books on self improvement\n",
      "Life is full of possibilities.\n",
      "Music brings joy to my soul.\n",
      "Today is a beautiful day.\n",
      "Python is amazing!\n",
      "The sky is blue.\n",
      "I love cycling.\n",
      "Hello, world!\n"
     ]
    }
   ],
   "source": [
    "def sort_strings_in_list(list_of_strings):\n",
    "    return sorted(list_of_strings,key=len,reverse=True)\n",
    "\n",
    "list_of_strings=[\"Hello, world!\",\n",
    "\"Python is amazing!\",\n",
    "\"I love cycling.\",\n",
    "\"The sky is blue.\",\n",
    "\"Today is a beautiful day.\",\n",
    "\"Python is a versatile programming language.\",\n",
    "\"Learning new things is exciting.\",\n",
    "\"Life is full of possibilities.\",\n",
    "\"Music brings joy to my soul.\",\n",
    "\"I love books on self improvement\"]\n",
    "print(\"List of strings before sorting:\\n\")\n",
    "\n",
    "for string in list_of_strings:\n",
    "    print(f\"{string}\")\n",
    "\n",
    "list_of_sorted_strings=sort_strings_in_list(list_of_strings)\n",
    "\n",
    "print(\"--------------------------------------------------------------\\nList of strings after sorting:\\n\")\n",
    "\n",
    "\n",
    "for string in list_of_sorted_strings:\n",
    "    print(f\"{string}\")"
   ]
  },
  {
   "cell_type": "markdown",
   "id": "1612ecee",
   "metadata": {},
   "source": [
    "# 3. Write a function that takes a list of numbers as input and returns the second-largest number."
   ]
  },
  {
   "cell_type": "code",
   "execution_count": 128,
   "id": "d34d9760",
   "metadata": {},
   "outputs": [
    {
     "name": "stdout",
     "output_type": "stream",
     "text": [
      "The second-largest number is: 12\n"
     ]
    }
   ],
   "source": [
    "def find_second_largest(numbers):\n",
    "    if len(numbers)<2:\n",
    "        return None\n",
    "    largest=numbers[0]\n",
    "    second_largest=numbers[0]\n",
    "    for num in numbers:\n",
    "        if num>largest:\n",
    "            second_largest=largest\n",
    "            largest=num\n",
    "    if second_largest==largest:\n",
    "        return None\n",
    "    else:\n",
    "        return second_largest\n",
    "    \n",
    "number_list = [5, 8, 2, 10, 3, 6,11,12,45,39]\n",
    "second_largest = find_second_largest(number_list)\n",
    "print(\"The second-largest number is:\", second_largest)\n"
   ]
  },
  {
   "cell_type": "markdown",
   "id": "e932b906",
   "metadata": {},
   "source": [
    "# 4. Write a Python program that takes a list of integers as input and returns a new list with only the numbers that are prime."
   ]
  },
  {
   "cell_type": "code",
   "execution_count": 12,
   "id": "935fb5e6",
   "metadata": {},
   "outputs": [
    {
     "name": "stdout",
     "output_type": "stream",
     "text": [
      "[2, 3, 5, 7, 11, 13, 941, 53, 47, 43]\n"
     ]
    }
   ],
   "source": [
    "import math\n",
    "\n",
    "def is_prime(num):\n",
    "    if num < 2:\n",
    "        return False\n",
    "    for i in range(2, int(math.sqrt(num)) + 1):\n",
    "        if num % i == 0:\n",
    "            return False\n",
    "    return True\n",
    "def filter_prime_numbers(numbers):\n",
    "    prime_numbers=[]\n",
    "    for num in numbers:\n",
    "        if is_prime(num):\n",
    "            prime_numbers.append(num)\n",
    "    return prime_numbers\n",
    "\n",
    "input_list = [2, 3, 4, 5, 6, 7, 8, 9, 10,11,13,15,26,77,84,91,941,53,47,43]\n",
    "prime_list = filter_prime_numbers(input_list)\n",
    "print(prime_list)"
   ]
  },
  {
   "cell_type": "markdown",
   "id": "b7dd57ca",
   "metadata": {},
   "source": [
    "# 5. Write a Python function that takes a list of integers as input and returns a new list with only the numbers that are perfect squares."
   ]
  },
  {
   "cell_type": "code",
   "execution_count": 13,
   "id": "83561af2",
   "metadata": {},
   "outputs": [
    {
     "name": "stdout",
     "output_type": "stream",
     "text": [
      "[1, 4, 9, 16, 25, 36, 49, 64, 81, 100]\n"
     ]
    }
   ],
   "source": [
    "import math\n",
    "\n",
    "def is_perfect_square(numbers):\n",
    "    perfect_square=[]\n",
    "    for num in numbers:\n",
    "        if math.sqrt(num).is_integer():\n",
    "            perfect_square.append(num)\n",
    "    return perfect_square\n",
    "input_list = [1,2,3, 4,5,6,7,8, 9, 10,16, 25, 36,37, 49,50, 64, 81, 100]\n",
    "print(is_perfect_square(input_list))"
   ]
  },
  {
   "cell_type": "markdown",
   "id": "5956a43b",
   "metadata": {},
   "source": [
    "# 6. Write a Python function that takes a list of numbers as input and returns the sum of all the numbers divisible by 3 or 5."
   ]
  },
  {
   "cell_type": "code",
   "execution_count": 22,
   "id": "e03251b2",
   "metadata": {},
   "outputs": [
    {
     "name": "stdout",
     "output_type": "stream",
     "text": [
      "List: [1, 2, 3, 4, 5, 6, 7, 8, 9, 10, 11, 12, 13, 14, 15, 16, 17, 18, 19, 20]\n",
      "Sum of all the numbers divisible by 3 or 5 : 98\n"
     ]
    }
   ],
   "source": [
    "def sum_divisible_by_3_or_5(numbers):\n",
    "    sum=0\n",
    "    for num in numbers:\n",
    "        if num%3==0 or num%5==0:\n",
    "            sum+=num\n",
    "    return sum\n",
    "\n",
    "numbers = [1, 2, 3, 4, 5, 6, 7, 8, 9, 10, 11, 12, 13, 14, 15, 16, 17, 18, 19, 20]\n",
    "result = sum_divisible_by_3_or_5(numbers)\n",
    "print(f'List: {numbers}\\nSum of all the numbers divisible by 3 or 5 : {result}')"
   ]
  },
  {
   "cell_type": "markdown",
   "id": "4cbd608c",
   "metadata": {},
   "source": [
    "# 7. Write a Python function called calculate_discounted_price that takes the original price of an item and a discount percentage as input. The function should return the discounted price after applying the discount. Ensure that the function handles the case where the discount percentage is negative and raises a custom exception called InvalidDiscountError with an appropriate error message."
   ]
  },
  {
   "cell_type": "code",
   "execution_count": 74,
   "id": "0ce28dfc",
   "metadata": {},
   "outputs": [
    {
     "name": "stdout",
     "output_type": "stream",
     "text": [
      "Enter the original price of the product: 100\n",
      "Enter the discount percent: 20\n",
      "Discounted Price: 80.0\n"
     ]
    }
   ],
   "source": [
    "\n",
    "def calculate_discounted_price(original_price,discount_percent):\n",
    "    if discount_percent < 0 or discount_percent > 100:\n",
    "        raise InvalidDiscountError(\"Invalid discount percentage: Discount percentage must be between 0 and 100.\")\n",
    "    discount_amount=original_price*(discount_percent/100)\n",
    "    discounted_price=original_price-discount_amount\n",
    "    return discounted_price\n",
    "try:\n",
    "    original_price=float(input(\"Enter the original price of the product: \"))\n",
    "    discount_percent=float(input(\"Enter the discount percent: \"))\n",
    "    discounted_price=calculate_discounted_price(original_price,discount_percent)\n",
    "    print(f'Discounted Price: {discounted_price}')\n",
    "except InvalidDiscountError as e:\n",
    "    print(\"InvalidDiscountError:\", str(e))\n",
    "except ValueError:\n",
    "    print(\"Error: Invalid input. Please enter numeric values for the original price and discount percentage.\")\n",
    "            "
   ]
  },
  {
   "cell_type": "markdown",
   "id": "af0cb5c6",
   "metadata": {},
   "source": [
    "# 8. Write a function that takes a sentence as input and returns a new sentence with the words reversed, while keeping the order of the words in the sentence."
   ]
  },
  {
   "cell_type": "code",
   "execution_count": 94,
   "id": "04f11b53",
   "metadata": {},
   "outputs": [
    {
     "name": "stdout",
     "output_type": "stream",
     "text": [
      "etirW a noitcnuf taht sekat a ecnetnes sa tupni dna snruter a wen ecnetnes htiw eht sdrow desrever , elihw gnipeek eht redro fo eht sdrow ni eht ecnetnes .\n"
     ]
    }
   ],
   "source": [
    "def reversed_words(sentence):\n",
    "    words=sentence.split()\n",
    "    reversed_words=[word[::-1] for word in words]\n",
    "    reversed_sentence=\" \".join(reversed_words)\n",
    "    return reversed_sentence\n",
    "\n",
    "\n",
    "sentence=\"Write a function that takes a sentence as input and returns a new sentence with the words reversed , while keeping the order of the words in the sentence .\"\n",
    "reversed_sentence=reversed_words(sentence)\n",
    "print(reversed_sentence)"
   ]
  },
  {
   "cell_type": "markdown",
   "id": "7f72aba7",
   "metadata": {},
   "source": [
    "# 9. Implement a program that simulates a basic calculator, allowing users to perform arithmetic operations (addition, subtraction, multiplication, division) on two numbers"
   ]
  },
  {
   "cell_type": "code",
   "execution_count": 195,
   "id": "be3d404e",
   "metadata": {
    "scrolled": true
   },
   "outputs": [
    {
     "name": "stdout",
     "output_type": "stream",
     "text": [
      "Calculator\n",
      "Enter the first number: 12\n",
      "Enter the second number: 12\n",
      "Select an operation:\n",
      "1. Addition\n",
      "2. Subtraction\n",
      "3. Multiplication\n",
      "4. Division\n",
      "Select an operation (1-4): 5\n",
      "Invalid choice. Please enter a number between 1 and 4.\n",
      "Select an operation (1-4): 2\n",
      "12.0 - 12.0 = 0.0\n",
      "-------------------------------------------------------------------\n",
      "Do you want to perform another calculation? (yes/no):yes\n",
      "Enter the first number: 12\n",
      "Enter the second number: 12\n",
      "Select an operation:\n",
      "1. Addition\n",
      "2. Subtraction\n",
      "3. Multiplication\n",
      "4. Division\n",
      "Select an operation (1-4): 3\n",
      "12.0 * 12.0 = 144.0\n",
      "-------------------------------------------------------------------\n",
      "Do you want to perform another calculation? (yes/no):no\n"
     ]
    }
   ],
   "source": [
    "def calculator():\n",
    "    while True:\n",
    "        try:\n",
    "            num1 = float(input(\"Enter the first number: \"))\n",
    "            num2 = float(input(\"Enter the second number: \"))\n",
    "\n",
    "            print(\"Select an operation:\")\n",
    "            print(\"1. Addition\")\n",
    "            print(\"2. Subtraction\")\n",
    "            print(\"3. Multiplication\")\n",
    "            print(\"4. Division\")\n",
    "            \n",
    "            choice = None\n",
    "            while choice not in [1, 2, 3, 4]:\n",
    "                choice = int(input(\"Select an operation (1-4): \"))\n",
    "                if choice not in [1, 2, 3, 4]:\n",
    "                    print(\"Invalid choice. Please enter a number between 1 and 4.\")\n",
    "\n",
    "            if choice == 1:\n",
    "                result = num1 + num2\n",
    "                operator = \"+\"\n",
    "            elif choice == 2:\n",
    "                result = num1 - num2\n",
    "                operator = \"-\"\n",
    "            elif choice == 3:\n",
    "                result = num1 * num2\n",
    "                operator = \"*\"\n",
    "            elif choice == 4:\n",
    "                if num2 == 0:\n",
    "                    raise ZeroDivisionError(\"Error: Cannot divide by zero!\")\n",
    "                result = num1 / num2\n",
    "                operator = \"/\"\n",
    "\n",
    "            print(f\"{num1} {operator} {num2} = {result}\\n-------------------------------------------------------------------\")\n",
    "\n",
    "            while True:\n",
    "                repeat = input(\"Do you want to perform another calculation? (yes/no):\")\n",
    "                if repeat.lower() in [\"yes\", \"no\"]:\n",
    "                    break\n",
    "                else:\n",
    "                    print(\"Invalid input for repeat. Please enter 'yes' or 'no'.\")\n",
    "\n",
    "            if repeat.lower() == \"no\":\n",
    "                break\n",
    "\n",
    "        except ValueError as ve:\n",
    "            if \"could not convert string to float\" in str(ve):\n",
    "                print(\"Error: Invalid input. Please enter valid numeric values.\")\n",
    "            else:\n",
    "                print(str(ve))\n",
    "        except ZeroDivisionError as zde:\n",
    "            print(str(zde))\n",
    "        except KeyboardInterrupt:\n",
    "            print(\"\\nCalculator program terminated by user.\")\n",
    "            break\n",
    "\n",
    "print(\"Calculator\")\n",
    "calculator()\n"
   ]
  },
  {
   "cell_type": "markdown",
   "id": "9e416ea9",
   "metadata": {},
   "source": [
    "# 10. Create a class named Notes for handling text-based file operations. Class should contain methods \"write\", \"read\" and then \"append\" as instance methods or class methods. (Can contain any other methods if you wish) Use a single file for saving the notes. You can set the file name as a constant somewhere in the program (Or as a class variable). write method should create the if it doesn't exist, Then it should overwrite the older contents with the user input if the user plans to overwrite the file. read method should read the whole file contents and return it. If the file doesn't exist, then it should return \"No notes found\" append method should take the user input value and it must add the value to the end of the file. It must not overwrite the file. Now create a program to utilize this class. The program should repeatedly ask the user for these 4 choices : 1 - Write Note (Overwrite existing). 2 - Add more Notes (Append). 3 - Read Notes. 4 - Exit."
   ]
  },
  {
   "cell_type": "code",
   "execution_count": 206,
   "id": "b8f4d914",
   "metadata": {},
   "outputs": [
    {
     "name": "stdout",
     "output_type": "stream",
     "text": [
      "Menu:\n",
      "1. Write Note (Overwrite existing)\n",
      "2. Add more Notes (Append)\n",
      "3. Read Notes\n",
      "4. Exit\n",
      "Enter your choice (1-4): 3\n",
      "No notes found.\n",
      "Menu:\n",
      "1. Write Note (Overwrite existing)\n",
      "2. Add more Notes (Append)\n",
      "3. Read Notes\n",
      "4. Exit\n",
      "Enter your choice (1-4): 1\n",
      "Enter the note content to overwrite the file:  Create a class named Notes for handling text-based file operations. Class should contain methods \"write\", \"read\" and then \"append\" as instance methods or class methods.\n",
      "Note wrtitten successfully.\n",
      "Menu:\n",
      "1. Write Note (Overwrite existing)\n",
      "2. Add more Notes (Append)\n",
      "3. Read Notes\n",
      "4. Exit\n",
      "Enter your choice (1-4): 3\n",
      "Notes: \n",
      " Create a class named Notes for handling text-based file operations. Class should contain methods \"write\", \"read\" and then \"append\" as instance methods or class methods.\n",
      "Menu:\n",
      "1. Write Note (Overwrite existing)\n",
      "2. Add more Notes (Append)\n",
      "3. Read Notes\n",
      "4. Exit\n",
      "Enter your choice (1-4): 4\n"
     ]
    }
   ],
   "source": [
    "class Notes:\n",
    "    \n",
    "    file_name=\"notes.txt\"\n",
    "    \n",
    "    def write(self):\n",
    "        content=input(\"Enter the note content to overwrite the file: \")\n",
    "        with open(Notes.file_name,'w') as file:\n",
    "            file.write(content)\n",
    "        print(\"Note wrtitten successfully.\")\n",
    "        \n",
    "    def read(self):\n",
    "        try:\n",
    "            with open(Notes.file_name,'r') as file:\n",
    "                content=file.read()\n",
    "            if not content:\n",
    "                print(\"No notes found.\")\n",
    "            else:\n",
    "                print(\"Notes: \")\n",
    "                print(content)\n",
    "        except FileNotFoundError:\n",
    "            print(\"No notes found.\")\n",
    "            \n",
    "    def append(self):\n",
    "        content=input(\"Enter the note content to append to the file: \")\n",
    "        with open(Notes.file_name,'a') as file:\n",
    "            file.write(content+\"\\n\")\n",
    "        print(\"Notes appended succussfully.\")\n",
    "                      \n",
    "    def run(self):\n",
    "        while True:\n",
    "            print(\"Menu:\")\n",
    "            print(\"1. Write Note (Overwrite existing)\")\n",
    "            print(\"2. Add more Notes (Append)\")\n",
    "            print(\"3. Read Notes\")\n",
    "            print(\"4. Exit\")\n",
    "            \n",
    "            choice = input(\"Enter your choice (1-4): \")\n",
    "            if choice == \"1\":\n",
    "                self.write()\n",
    "            elif choice == \"2\":\n",
    "                self.append()\n",
    "            elif choice == \"3\":\n",
    "                self.read()\n",
    "            elif choice == \"4\":\n",
    "                break\n",
    "            else:\n",
    "                print(\"Invalid choice. Please enter a number between 1 and 4.\")\n",
    "\n",
    "notes=Notes()\n",
    "notes.run()"
   ]
  }
 ],
 "metadata": {
  "kernelspec": {
   "display_name": "Python 3 (ipykernel)",
   "language": "python",
   "name": "python3"
  },
  "language_info": {
   "codemirror_mode": {
    "name": "ipython",
    "version": 3
   },
   "file_extension": ".py",
   "mimetype": "text/x-python",
   "name": "python",
   "nbconvert_exporter": "python",
   "pygments_lexer": "ipython3",
   "version": "3.9.13"
  }
 },
 "nbformat": 4,
 "nbformat_minor": 5
}
