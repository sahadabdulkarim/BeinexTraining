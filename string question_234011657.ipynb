{
 "cells": [
  {
   "cell_type": "markdown",
   "id": "6fee91c0",
   "metadata": {},
   "source": [
    "1. Write a Python program to calculate the length of a string(user input) without using len() method.\n",
    "2. Write a Python program to check if a given string(user input) is a palindrome.\n",
    "3. Write a Python program to check if a string(user input) has at least one letter and one number.\n",
    "4. Write a Python program to count the number of occurrences of a specific character in a given sentence. Take both sentence and specific character from the user.\n",
    "5. Write a Python program to determine if a given sentence(user input) contains any numbers. If any numbers are present, remove them from the sentence."
   ]
  },
  {
   "cell_type": "markdown",
   "id": "f1d5e6f7",
   "metadata": {},
   "source": [
    "# 1. Write a Python program to calculate the length of a string(user input) without using len() method."
   ]
  },
  {
   "cell_type": "code",
   "execution_count": 5,
   "id": "18ec10cd",
   "metadata": {},
   "outputs": [
    {
     "name": "stdout",
     "output_type": "stream",
     "text": [
      "Enter the string: beinex\n",
      "lenth of string :6\n"
     ]
    }
   ],
   "source": [
    "str=input(\"Enter the string to check length: \")\n",
    "count=0\n",
    "for _ in str:\n",
    "    count+=1\n",
    "print(f'lenth of string :{count}')"
   ]
  },
  {
   "cell_type": "markdown",
   "id": "3a1cb9b5",
   "metadata": {},
   "source": [
    "# 2. Write a Python program to check if a given string(user input) is a palindrome. "
   ]
  },
  {
   "cell_type": "code",
   "execution_count": 18,
   "id": "2ca48c7a",
   "metadata": {},
   "outputs": [
    {
     "name": "stdout",
     "output_type": "stream",
     "text": [
      "Enter the string to check palindrome: malayalam\n",
      "Entered string malayalam is palindrome\n"
     ]
    }
   ],
   "source": [
    "str=input(\"Enter the string to check palindrome: \")\n",
    "copy_string=str[::-1]\n",
    "if str == copy_string:\n",
    "    print(f'Entered string {str} is palindrome')\n",
    "else:\n",
    "    print(\"Not palindrome\")"
   ]
  },
  {
   "cell_type": "markdown",
   "id": "a085d2d9",
   "metadata": {},
   "source": [
    "# 3. Write a Python program to check if a string(user input) has at least one letter and one number."
   ]
  },
  {
   "cell_type": "code",
   "execution_count": 23,
   "id": "372629c1",
   "metadata": {},
   "outputs": [
    {
     "name": "stdout",
     "output_type": "stream",
     "text": [
      "Enter the string to check Letter or Number: Python3\n",
      "Yes, the entered string has at least one letter and one number.\n"
     ]
    }
   ],
   "source": [
    "str=input(\"Enter the string to check Letter or Number: \")\n",
    "letter=False\n",
    "number=False\n",
    "for i in str:\n",
    "    if i.isalpha():\n",
    "        letter=True\n",
    "    elif i.isdigit():\n",
    "        number=True\n",
    "if letter and number:\n",
    "    print(\"Yes, the entered string has at least one letter and one number.\")\n",
    "else:\n",
    "    print(\"No, the entered string doesn't have one letter and one number.\")"
   ]
  },
  {
   "cell_type": "markdown",
   "id": "02c4ab66",
   "metadata": {},
   "source": [
    "# 4. Write a Python program to count the number of occurrences of a specific character in a given sentence. Take both sentence and specific character from the user."
   ]
  },
  {
   "cell_type": "code",
   "execution_count": 30,
   "id": "4693f84d",
   "metadata": {},
   "outputs": [
    {
     "name": "stdout",
     "output_type": "stream",
     "text": [
      "Enter the string: Beinex\n",
      "Enter the letter to check the presence:  x\n",
      "x Present in Beinex\n"
     ]
    }
   ],
   "source": [
    "str=input(\"Enter the string: \")\n",
    "letter=input(\"Enter the letter to check the presence:  \")\n",
    "if letter in str:\n",
    "    print(f\"{letter} Present in {str}\")\n",
    "else:\n",
    "    print(f\"can't find the letter {letter} in {str}\")"
   ]
  },
  {
   "cell_type": "markdown",
   "id": "0823fbf6",
   "metadata": {},
   "source": [
    "# 5. Write a Python program to determine if a given sentence(user input) contains any numbers. If any numbers are present, remove them from the sentence."
   ]
  },
  {
   "cell_type": "code",
   "execution_count": 52,
   "id": "fc23103a",
   "metadata": {},
   "outputs": [
    {
     "name": "stdout",
     "output_type": "stream",
     "text": [
      "Enter the string: I'm 1999 born.\n",
      "the new sentence without numbers is: I'm born.\n"
     ]
    }
   ],
   "source": [
    "str=input(\"Enter the string: \")\n",
    "# Determine if the sentence contains any numbers\n",
    "digit=any(char.isdigit() for char in str)\n",
    "if digit:\n",
    "    words=str.split()\n",
    "    no_number_str=[]\n",
    "    for word in words:\n",
    "# Remove numbers from each word and create new word\n",
    "        new_word=''.join(i for i in word if not i.isdigit())\n",
    "        if new_word:\n",
    "# create list of words without numbers            \n",
    "            no_number_str.append(new_word)\n",
    "# Create the sentence using the list join.     \n",
    "    no_number_str= ' '.join(no_number_str) \n",
    "    print(f'the new sentence without numbers is: {no_number_str}')\n",
    "else:\n",
    "    print(\"The sentence does not contain any numbers.\")"
   ]
  }
 ],
 "metadata": {
  "kernelspec": {
   "display_name": "Python 3 (ipykernel)",
   "language": "python",
   "name": "python3"
  },
  "language_info": {
   "codemirror_mode": {
    "name": "ipython",
    "version": 3
   },
   "file_extension": ".py",
   "mimetype": "text/x-python",
   "name": "python",
   "nbconvert_exporter": "python",
   "pygments_lexer": "ipython3",
   "version": "3.9.13"
  }
 },
 "nbformat": 4,
 "nbformat_minor": 5
}
