{
 "cells": [
  {
   "cell_type": "markdown",
   "id": "30206a16",
   "metadata": {},
   "source": [
    "1. Write a Python program to read an entire text file.\n",
    "2. Write a Python program to read first n lines of a file.\n",
    "3. Write a Python program to append text to a file and display the text.\n",
    "4. Write a Python program to read last n lines of a file.\n",
    "5. Write a Python program to read a file line by line and store it into a list."
   ]
  },
  {
   "cell_type": "markdown",
   "id": "814c19ba",
   "metadata": {},
   "source": [
    "# 1. Write a Python program to read an entire text file."
   ]
  },
  {
   "cell_type": "code",
   "execution_count": 67,
   "id": "531b8824",
   "metadata": {},
   "outputs": [
    {
     "name": "stdout",
     "output_type": "stream",
     "text": [
      "File created successfully\n"
     ]
    }
   ],
   "source": [
    "with open(\"text.txt\", \"w\") as file:\n",
    "    file.write(\n",
    "        \"\"\"Hello! Welcome to text.txt\n",
    "This file is for testing purposes.\n",
    "Good Luck!\"\"\"\n",
    "    )\n",
    "    print(\"File created successfully\")"
   ]
  },
  {
   "cell_type": "code",
   "execution_count": 68,
   "id": "ee04bc60",
   "metadata": {
    "scrolled": true
   },
   "outputs": [
    {
     "name": "stdout",
     "output_type": "stream",
     "text": [
      "Hello! Welcome to text.txt\n",
      "This file is for testing purposes.\n",
      "Good Luck!\n"
     ]
    }
   ],
   "source": [
    "with open(\"text.txt\", \"r\") as file:\n",
    "    content=file.read()\n",
    "    print(content)"
   ]
  },
  {
   "cell_type": "markdown",
   "id": "043d20b2",
   "metadata": {},
   "source": [
    "# 2. Write a Python program to read first n lines of a file."
   ]
  },
  {
   "cell_type": "code",
   "execution_count": 119,
   "id": "1595ccba",
   "metadata": {},
   "outputs": [
    {
     "name": "stdout",
     "output_type": "stream",
     "text": [
      "Enter N value for number of lines: 3\n",
      "The folowing are the first 3 lines of a text file:\n",
      "\n",
      "Hello! Welcome to text.txt\n",
      "This file is for testing purposes.\n",
      "Good Luck!\n"
     ]
    }
   ],
   "source": [
    "N = int(input(\"Enter N value for number of lines: \"))\n",
    "if N>3:\n",
    "    print(\"Error, total number of lines = 3\")\n",
    "else:\n",
    "    with open(\"text.txt\", \"r\") as file:\n",
    "        print(\"The folowing are the first\",N,\"lines of a text file:\\n\")\n",
    "        for x in range(N):\n",
    "            print(file.readline(),end=\"\")"
   ]
  },
  {
   "cell_type": "markdown",
   "id": "9dca8309",
   "metadata": {},
   "source": [
    "# 3. Write a Python program to append text to a file and display the text."
   ]
  },
  {
   "cell_type": "code",
   "execution_count": 118,
   "id": "ec9e6432",
   "metadata": {},
   "outputs": [
    {
     "name": "stdout",
     "output_type": "stream",
     "text": [
      "Hello! Welcome to text.txt\n",
      "This file is for testing purposes.\n",
      "Good Luck!\n",
      "Now the file has more content!\n"
     ]
    }
   ],
   "source": [
    "with open(\"text.txt\",\"a\") as file:\n",
    "    file.write(\"\\n\"+\"Now the file has more content!\")\n",
    "with open(\"text.txt\", \"r\") as file:\n",
    "    print(file.read())"
   ]
  },
  {
   "cell_type": "markdown",
   "id": "1b6e87d4",
   "metadata": {},
   "source": [
    "# 4. Write a Python program to read last n lines of a file."
   ]
  },
  {
   "cell_type": "code",
   "execution_count": 129,
   "id": "775d6e83",
   "metadata": {
    "scrolled": true
   },
   "outputs": [
    {
     "name": "stdout",
     "output_type": "stream",
     "text": [
      "Enter N value for number of lines: 2\n",
      "Last 2 lines:\n",
      "\n",
      "Good Luck!\n",
      "Now the file has more content!"
     ]
    }
   ],
   "source": [
    "try:\n",
    "    N = int(input(\"Enter N value for number of lines: \"))\n",
    "    with open(\"text.txt\",\"r\") as file:\n",
    "        lines=file.readlines()\n",
    "        last_n_lines=lines[-N:]\n",
    "        print(f\"Last {N} lines:\\n\")\n",
    "        for line in last_n_lines:\n",
    "            print(line,end=\"\")\n",
    "except ValueError:\n",
    "    print(\"Invalid entry\")"
   ]
  },
  {
   "cell_type": "markdown",
   "id": "09cba532",
   "metadata": {},
   "source": [
    "# 5. Write a Python program to read a file line by line and store it into a list."
   ]
  },
  {
   "cell_type": "code",
   "execution_count": 132,
   "id": "e8806ea2",
   "metadata": {},
   "outputs": [
    {
     "name": "stdout",
     "output_type": "stream",
     "text": [
      "['Hello! Welcome to text.txt', 'This file is for testing purposes.', 'Good Luck!', 'Now the file has more content!']\n"
     ]
    }
   ],
   "source": [
    "try:\n",
    "    with open(\"text.txt\",\"r\") as file:\n",
    "        lines=file.readlines()\n",
    "        lines=[line.strip() for line in lines]\n",
    "        print(lines)\n",
    "except:\n",
    "    print(\"error\")"
   ]
  }
 ],
 "metadata": {
  "kernelspec": {
   "display_name": "Python 3 (ipykernel)",
   "language": "python",
   "name": "python3"
  },
  "language_info": {
   "codemirror_mode": {
    "name": "ipython",
    "version": 3
   },
   "file_extension": ".py",
   "mimetype": "text/x-python",
   "name": "python",
   "nbconvert_exporter": "python",
   "pygments_lexer": "ipython3",
   "version": "3.9.13"
  }
 },
 "nbformat": 4,
 "nbformat_minor": 5
}
