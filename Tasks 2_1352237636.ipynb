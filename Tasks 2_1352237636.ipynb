{
 "cells": [
  {
   "cell_type": "markdown",
   "id": "9771591d",
   "metadata": {},
   "source": [
    "1) Create a class named Shape. Add an instance method called area. But don't define the method, just raise NotImplemented() exception with a message.\n",
    "\n",
    "2) Make it an abstract base class by inheriting ABC class from the abc module. (To import: from abc import ABC)\n",
    "Make the area method an abstract method by decorating it with abstractmethod decorator (import this also from abc).\n",
    "\n",
    "3) Add 4 different subclasses for class Shape. - Triangle, Square, Pentagon, Circle.\n",
    "Define custructor for each of them to assign the necessary parameters required for calculating the area.\n",
    "Define the area method for each of the classes. When invoked it Should return the area of the shape by calculating it.\n",
    "Create an object for each of the subclasses and call the area method on the objects.\n",
    "\n",
    "\n",
    "4) Create a class Employee with name and id, salary attributes.\n",
    "The salary has to be calculated and should be initialized to zero.\n",
    "Create a method to calculate the salary by taking the no of hours worked and multiply it by 200.You can give no of hours to the method as an argument.\n",
    "Now create a child class ParttimeEmployee by inheriting the Employee class, and by using method overriding (create salary calculation method in this class also with the same name)\n",
    "get the salary of part time employee by multiplyig no of hours worked by 150.\n",
    "Also implement '+' operator overloading using __add__ to find the total expense of paying salaries to employees(Find the total salary of all the created employees and  parttime employees use __radd__ and implement chained addition)."
   ]
  },
  {
   "cell_type": "markdown",
   "id": "d7037ca6",
   "metadata": {},
   "source": [
    "# 1) Create a class named Shape. Add an instance method called area. But don't define the method, just raise NotImplemented() exception with a message."
   ]
  },
  {
   "cell_type": "code",
   "execution_count": 14,
   "id": "e3419d75",
   "metadata": {},
   "outputs": [],
   "source": [
    "class Shape:\n",
    "    def area(self):\n",
    "        raise NotImplemented(\"subclass must implement 'area' method.\")"
   ]
  },
  {
   "cell_type": "markdown",
   "id": "3954e71c",
   "metadata": {},
   "source": [
    "# 2) Make it an abstract base class by inheriting ABC class from the abc module. (To import: from abc import ABC) Make the area method an abstract method by decorating it with abstractmethod decorator (import this also from abc)."
   ]
  },
  {
   "cell_type": "code",
   "execution_count": 15,
   "id": "756537ed",
   "metadata": {},
   "outputs": [],
   "source": [
    "from abc import ABC, abstractmethod\n",
    "\n",
    "class Shape(ABC):\n",
    "    @abstractmethod\n",
    "    def area(self):\n",
    "        raise NotImplemented(\"subclass must implement 'area' method.\")"
   ]
  },
  {
   "cell_type": "markdown",
   "id": "b251eb8e",
   "metadata": {},
   "source": [
    "# 3) Add 4 different subclasses for class Shape. - Triangle, Square, Pentagon, Circle. Define constructor for each of them to assign the necessary parameters required for calculating the area. Define the area method for each of the classes. When invoked it Should return the area of the shape by calculating it. Create an object for each of the subclasses and call the area method on the objects."
   ]
  },
  {
   "cell_type": "code",
   "execution_count": 17,
   "id": "800bf6d0",
   "metadata": {},
   "outputs": [
    {
     "name": "stdout",
     "output_type": "stream",
     "text": [
      "Area of Triangle:  17.5\n",
      "Area of Square:  16\n",
      "Area of Pentagon:  61.93728\n",
      "Area of Circle: 28.274333882308138\n"
     ]
    }
   ],
   "source": [
    "from abc import ABC, abstractmethod\n",
    "import math\n",
    "\n",
    "class Shape(ABC):\n",
    "    @abstractmethod\n",
    "    def area(self):\n",
    "        raise NotImplemented(\"subclass must implement 'area' method.\")\n",
    "class Triangle(Shape):\n",
    "    def __init__(self,base, height):\n",
    "        self.base=base \n",
    "        self.height=height\n",
    "    def area(self):\n",
    "        return 0.5 * self.base * self.height\n",
    "    \n",
    "class Square(Shape):\n",
    "    def __init__(self, side):\n",
    "        self.side = side\n",
    "\n",
    "    def area(self):\n",
    "        return self.side * self.side\n",
    "    \n",
    "class Pentagon(Shape):\n",
    "    def __init__(self, side):\n",
    "        self.side = side\n",
    "\n",
    "    def area(self):\n",
    "        return 1.72048 * self.side * self.side\n",
    "    \n",
    "class Circle(Shape):\n",
    "    def __init__(self, radius):\n",
    "        self.radius = radius\n",
    "\n",
    "    def area(self):\n",
    "        return math.pi * self.radius * self.radius\n",
    "    \n",
    "traingle=Triangle(5,7)\n",
    "print(\"Area of Triangle: \",traingle.area())\n",
    "\n",
    "square = Square(4)\n",
    "print(\"Area of Square: \", square.area())\n",
    "\n",
    "pentagon = Pentagon(6)\n",
    "print(\"Area of Pentagon: \", pentagon.area())\n",
    "\n",
    "circle = Circle(3)\n",
    "print(\"Area of Circle:\", circle.area())"
   ]
  },
  {
   "cell_type": "markdown",
   "id": "659bf1f7",
   "metadata": {},
   "source": [
    "# 4) Create a class Employee with name and id, salary attributes. The salary has to be calculated and should be initialized to zero. Create a method to calculate the salary by taking the no of hours worked and multiply it by 200.You can give no of hours to the method as an argument. Now create a child class ParttimeEmployee by inheriting the Employee class, and by using method overriding (create salary calculation method in this class also with the same name) get the salary of part time employee by multiplyig no of hours worked by 150. Also implement '+' operator overloading using add to find the total expense of paying salaries to employees(Find the total salary of all the created employees and parttime employees use radd and implement chained addition)."
   ]
  },
  {
   "cell_type": "code",
   "execution_count": 60,
   "id": "e93b6ae8",
   "metadata": {},
   "outputs": [
    {
     "name": "stdout",
     "output_type": "stream",
     "text": [
      "Total Expense: 31250\n",
      "Employee 1:\n",
      "Name: John\n",
      "ID: 12345\n",
      "Salary: 8000\n",
      "\n",
      "Employee 2:\n",
      "Name: Sahad\n",
      "ID: 12346\n",
      "Salary: 4000\n",
      "\n",
      "Employee 3:\n",
      "Name: Sii\n",
      "ID: 12347\n",
      "Salary: 8000\n",
      "\n",
      "Part-Time Employee 1:\n",
      "Name: Jane\n",
      "ID: 67890\n",
      "Salary: 3000\n",
      "\n",
      "Part-Time Employee 2:\n",
      "Name: Jane Smith\n",
      "ID: 67891\n",
      "Salary: 4500\n",
      "\n",
      "Part-Time Employee 3:\n",
      "Name: Jude\n",
      "ID: 67897\n",
      "Salary: 3750\n",
      "\n"
     ]
    }
   ],
   "source": [
    "class Employee:\n",
    "    \n",
    "    def __init__(self,name,id):\n",
    "        self.name=name\n",
    "        self.id=id\n",
    "        self.salary=0\n",
    "        \n",
    "    def calculate_salary(self,hours_worked):\n",
    "        self.salary=hours_worked * 200\n",
    "        \n",
    "    def __add__(self, other):\n",
    "        if isinstance(other, Employee):\n",
    "            return self.salary + other.salary\n",
    "        elif isinstance(other, int):\n",
    "            return self.salary + other\n",
    "        return NotImplemented\n",
    "\n",
    "    def __radd__(self, other):\n",
    "        if other == 0:\n",
    "            return self\n",
    "        else:\n",
    "            return self.__add__(other)\n",
    "        \n",
    "    def __str__(self):\n",
    "        return f\"Name: {self.name}\\nID: {self.id}\\nSalary: {self.salary}\\n\"\n",
    "\n",
    "class ParttimeEmployee(Employee):\n",
    "    def calculate_salary(self,hours_worked):\n",
    "        self.salary=hours_worked * 150\n",
    "    \n",
    "    def __str__(self):\n",
    "        return f\"Name: {self.name}\\nID: {self.id}\\nSalary: {self.salary}\\n\"\n",
    "\n",
    "        \n",
    "employee1 = Employee(\"John\", 12345)\n",
    "employee1.calculate_salary(40)\n",
    "\n",
    "employee2 = Employee(\"Sahad\", 12346)\n",
    "employee2.calculate_salary(20)\n",
    "\n",
    "employee3 = Employee(\"Sii\", 12347)\n",
    "employee3.calculate_salary(40)\n",
    "\n",
    "part_time_employee1 = ParttimeEmployee(\"Jane\", 67890)\n",
    "part_time_employee1.calculate_salary(20)\n",
    "\n",
    "part_time_employee2 = ParttimeEmployee(\"Jane Smith\", 67891)\n",
    "part_time_employee2.calculate_salary(30)\n",
    "\n",
    "part_time_employee3 = ParttimeEmployee(\"Jude\", 67897)\n",
    "part_time_employee3.calculate_salary(25)\n",
    "\n",
    "total_expense = employee1 + part_time_employee1 + employee2 + part_time_employee2+employee3+part_time_employee3\n",
    "\n",
    "print(f\"Total Expense: {total_expense}\")\n",
    "\n",
    "print(\"Employee 1:\")\n",
    "print(employee1)\n",
    "\n",
    "print(\"Employee 2:\")\n",
    "print(employee2)\n",
    "\n",
    "print(\"Employee 3:\")\n",
    "print(employee3)\n",
    "\n",
    "print(\"Part-Time Employee 1:\")\n",
    "print(part_time_employee1)\n",
    "\n",
    "print(\"Part-Time Employee 2:\")\n",
    "print(part_time_employee2)\n",
    "\n",
    "print(\"Part-Time Employee 3:\")\n",
    "print(part_time_employee3)"
   ]
  }
 ],
 "metadata": {
  "kernelspec": {
   "display_name": "Python 3 (ipykernel)",
   "language": "python",
   "name": "python3"
  },
  "language_info": {
   "codemirror_mode": {
    "name": "ipython",
    "version": 3
   },
   "file_extension": ".py",
   "mimetype": "text/x-python",
   "name": "python",
   "nbconvert_exporter": "python",
   "pygments_lexer": "ipython3",
   "version": "3.9.13"
  }
 },
 "nbformat": 4,
 "nbformat_minor": 5
}
