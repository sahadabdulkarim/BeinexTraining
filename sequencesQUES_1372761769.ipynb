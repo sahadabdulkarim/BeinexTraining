{
 "cells": [
  {
   "cell_type": "markdown",
   "id": "d915525d",
   "metadata": {},
   "source": [
    "Q1: write a program to remove duplicate elements from a list in Python while preserving the original order?\n",
    "hint:You can use a combination of a list comprehension and a conditional check to remove\n",
    " \n",
    "Q2: write a program to iterate over a dictionary and its values in Python?\n",
    "\n",
    "Q3: write a program to merge multiple dictionaries into a single dictionary in Python?\n",
    "\n",
    "Q4: write a program to convert a list of tuples into a dictionary in Python?\n",
    "\n",
    "Q5: write a program to sort a list of tuples based on multiple keys in Python?\n",
    "\n",
    "Q6: write a program to find the maximum and minimum values in a dictionary in Python?"
   ]
  },
  {
   "cell_type": "markdown",
   "id": "3f956b71",
   "metadata": {},
   "source": [
    "# Q1: write a program to remove duplicate elements from a list in Python while preserving the original order? hint:You can use a combination of a list comprehension and a conditional check to remove"
   ]
  },
  {
   "cell_type": "code",
   "execution_count": 17,
   "id": "d4f6304b",
   "metadata": {},
   "outputs": [
    {
     "name": "stdout",
     "output_type": "stream",
     "text": [
      "List after removing duplicate elements: [1, 2, 3, 4, 5, 6]\n"
     ]
    }
   ],
   "source": [
    "def remove_duplicates(list1):\n",
    "    unique_list=[]\n",
    "    [unique_list.append(x) for x in list1 if x not in unique_list]\n",
    "    return unique_list\n",
    "list1=[1,2,3,4,5,5,6,2,]\n",
    "unique_list=remove_duplicates(list1)\n",
    "print(f'List after removing duplicate elements: {unique_list}')"
   ]
  },
  {
   "cell_type": "markdown",
   "id": "ca7e0ec8",
   "metadata": {},
   "source": [
    "# Q2: write a program to iterate over a dictionary and its values in Python?"
   ]
  },
  {
   "cell_type": "code",
   "execution_count": 22,
   "id": "1d6847c2",
   "metadata": {},
   "outputs": [
    {
     "name": "stdout",
     "output_type": "stream",
     "text": [
      "value1\n",
      "value2\n",
      "value3\n"
     ]
    }
   ],
   "source": [
    "def dictionary(d):\n",
    "    for x in d.values():\n",
    "        print(x)\n",
    "d = {\n",
    "    'key1': 'value1',\n",
    "    'key2': 'value2',\n",
    "    'key3': 'value3'\n",
    "}\n",
    "dictionary(d)        "
   ]
  },
  {
   "cell_type": "markdown",
   "id": "ab831892",
   "metadata": {},
   "source": [
    "# Q3: write a program to merge multiple dictionaries into a single dictionary in Python?"
   ]
  },
  {
   "cell_type": "code",
   "execution_count": 52,
   "id": "4c6ac8b7",
   "metadata": {},
   "outputs": [
    {
     "name": "stdout",
     "output_type": "stream",
     "text": [
      "Merged dictionary: {'a': 1, 'b': 2, 'c': 3, 'd': 4, 'e': 5, 'f': 6}\n"
     ]
    }
   ],
   "source": [
    "def merge_dicts(dicts):\n",
    "    merged_dict = {}\n",
    "    for dictionary in dicts:\n",
    "        merged_dict.update(dictionary)\n",
    "    return merged_dict\n",
    "\n",
    "dict1 = {'a': 1, 'b': 2}\n",
    "dict2 = {'c': 3, 'd': 4}\n",
    "dict3 = {'e': 5, 'f': 6}\n",
    "\n",
    "dicts = [dict1, dict2, dict3]\n",
    "\n",
    "merged_dict = merge_dicts(dicts)\n",
    "\n",
    "print(\"Merged dictionary:\", merged_dict)\n"
   ]
  },
  {
   "cell_type": "markdown",
   "id": "84ca4755",
   "metadata": {},
   "source": [
    "# Q4: write a program to convert a list of tuples into a dictionary in Python?"
   ]
  },
  {
   "cell_type": "code",
   "execution_count": 62,
   "id": "7f1c7410",
   "metadata": {},
   "outputs": [
    {
     "name": "stdout",
     "output_type": "stream",
     "text": [
      "Resulting dictionary: {'a': 1, 'b': 2, 'c': 3}\n"
     ]
    }
   ],
   "source": [
    "def convert_to_dictionary(list_of_tuples):\n",
    "    dictionary = {}\n",
    "    #tuple unpacking\n",
    "    for key, value in list_of_tuples:\n",
    "        dictionary[key] = value\n",
    "    return dictionary\n",
    "\n",
    "list_of_tuples = [(\"a\", 1), (\"b\", 2), (\"c\", 3)]\n",
    "\n",
    "result_dict = convert_to_dictionary(list_of_tuples)\n",
    "\n",
    "print(\"Resulting dictionary:\", result_dict)\n"
   ]
  },
  {
   "cell_type": "markdown",
   "id": "23babf3c",
   "metadata": {},
   "source": [
    "# Q5: write a program to sort a list of tuples based on multiple keys in Python?"
   ]
  },
  {
   "cell_type": "code",
   "execution_count": 154,
   "id": "290d7631",
   "metadata": {},
   "outputs": [
    {
     "name": "stdout",
     "output_type": "stream",
     "text": [
      "List Before Sort:\n",
      "('John', 25, 'USA')\n",
      "('Alice', 30, 'Canada')\n",
      "('Bob', 22, 'USA')\n",
      "('Alice', 28, 'UK')\n",
      "\n",
      "Sorted list of tuples:\n",
      "('Alice', 28, 'UK')\n",
      "('Alice', 30, 'Canada')\n",
      "('Bob', 22, 'USA')\n",
      "('John', 25, 'USA')\n"
     ]
    }
   ],
   "source": [
    "def sort_list_of_tuples(list_of_tuples):\n",
    "    sorted_list = sorted(list_of_tuples, key=lambda x: (x[0],x[1]))\n",
    "    return sorted_list\n",
    "\n",
    "list_of_tuples = [\n",
    "    ('John', 25, 'USA'),\n",
    "    ('Alice', 30, 'Canada'),\n",
    "    ('Bob', 22, 'USA'),\n",
    "    ('Alice', 28, 'UK'),\n",
    "]\n",
    "\n",
    "sorted_tuples = sort_list_of_tuples(list_of_tuples)\n",
    "print(\"List Before Sort:\")\n",
    "for tuple in list_of_tuples:\n",
    "    print(tuple)\n",
    "print(\"\\nSorted list of tuples:\")\n",
    "for tuple in sorted_tuples:\n",
    "    print(tuple)\n"
   ]
  },
  {
   "cell_type": "markdown",
   "id": "71aad31a",
   "metadata": {},
   "source": [
    "# Q6: write a program to find the maximum and minimum values in a dictionary in Python?"
   ]
  },
  {
   "cell_type": "code",
   "execution_count": 150,
   "id": "15b2131c",
   "metadata": {},
   "outputs": [
    {
     "name": "stdout",
     "output_type": "stream",
     "text": [
      "Dictionary: {'key1': 10, 'key2': 5, 'key3': 15, 'key4': 2, 'key5': 8}\n",
      "Maximum value: 15\n",
      "Minimum value: 2\n"
     ]
    }
   ],
   "source": [
    "def find_max_min_values(dictionary):\n",
    "    values = dictionary.values()\n",
    "    max_value = max(values)\n",
    "    min_value = min(values)\n",
    "    return max_value, min_value\n",
    "\n",
    "dictionary = {\n",
    "    'key1': 10,\n",
    "    'key2': 5,\n",
    "    'key3': 15,\n",
    "    'key4': 2,\n",
    "    'key5': 8\n",
    "}\n",
    "\n",
    "max_value, min_value = find_max_min_values(dictionary)\n",
    "print(\"Dictionary:\",dictionary)\n",
    "print(\"Maximum value:\", max_value)\n",
    "print(\"Minimum value:\", min_value)\n"
   ]
  }
 ],
 "metadata": {
  "kernelspec": {
   "display_name": "Python 3 (ipykernel)",
   "language": "python",
   "name": "python3"
  },
  "language_info": {
   "codemirror_mode": {
    "name": "ipython",
    "version": 3
   },
   "file_extension": ".py",
   "mimetype": "text/x-python",
   "name": "python",
   "nbconvert_exporter": "python",
   "pygments_lexer": "ipython3",
   "version": "3.9.13"
  }
 },
 "nbformat": 4,
 "nbformat_minor": 5
}
