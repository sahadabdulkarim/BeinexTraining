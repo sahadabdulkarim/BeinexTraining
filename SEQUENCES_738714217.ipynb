{
 "cells": [
  {
   "cell_type": "markdown",
   "id": "e7e8b86a",
   "metadata": {},
   "source": [
    "1. Write a Python program to find the second smallest element in a list\n",
    "2. Write a Python program to merge two dictionaries and combine the values of common keys.\n",
    "3. Write a Python program to find the top N elements with the highest values in a dictionary.\n",
    "4. Write a Python program to check if two lists have any common elements.\n",
    "5. Write a Python program to find the intersection of two lists.\n",
    "6. Write a Python program to remove empty dictionaries from a list.\n",
    "7. Write a Python program to count the number of occurrences of each word in a given sentence.\n",
    "8. Write a Python program to check if two dictionaries are equal (have the same key-value pairs)."
   ]
  },
  {
   "cell_type": "markdown",
   "id": "df8d2345",
   "metadata": {},
   "source": [
    "# 1. Write a Python program to find the second smallest element in a list"
   ]
  },
  {
   "cell_type": "code",
   "execution_count": 18,
   "id": "ca5feb20",
   "metadata": {},
   "outputs": [
    {
     "name": "stdout",
     "output_type": "stream",
     "text": [
      "Second smallest element in the given list is: 2\n"
     ]
    }
   ],
   "source": [
    "def find_second_smallest(list1):\n",
    "    smallest=min(list1)\n",
    "    list1.pop(list1.index(smallest))\n",
    "    second_smallest=min(list1)\n",
    "    return second_smallest\n",
    "    \n",
    "numbers = [9, 5, 2, 7, 1, 8]\n",
    "second_smallest = find_second_smallest(numbers)\n",
    "print(f'Second smallest element in the given list is: {second_smallest}')"
   ]
  },
  {
   "cell_type": "markdown",
   "id": "3110eda3",
   "metadata": {},
   "source": [
    "# 2. Write a Python program to merge two dictionaries and combine the values of common keys."
   ]
  },
  {
   "cell_type": "code",
   "execution_count": 46,
   "id": "dd5432d4",
   "metadata": {},
   "outputs": [
    {
     "name": "stdout",
     "output_type": "stream",
     "text": [
      "Merged dictionary: {'a': 1, 'b': 5, 'c': 7, 'd': 5}\n"
     ]
    }
   ],
   "source": [
    "def merge_dictionaries(dict1, dict2):\n",
    "    merged_dict = dict1.copy()\n",
    "\n",
    "    for key, value in dict2.items():\n",
    "        if key in merged_dict:\n",
    "            merged_dict[key] += value\n",
    "        else:\n",
    "            merged_dict[key] = value\n",
    "\n",
    "    return merged_dict\n",
    "\n",
    "dict1 = {'a': 1, 'b': 2, 'c': 3}\n",
    "dict2 = {'b': 3, 'c': 4, 'd': 5}\n",
    "merged_dict = merge_dictionaries(dict1, dict2)\n",
    "print(\"Merged dictionary:\", merged_dict)\n"
   ]
  },
  {
   "cell_type": "markdown",
   "id": "9025aa02",
   "metadata": {},
   "source": [
    "# 3. Write a Python program to find the top N elements with the highest values in a dictionary."
   ]
  },
  {
   "cell_type": "code",
   "execution_count": 60,
   "id": "42eeaf43",
   "metadata": {},
   "outputs": [
    {
     "name": "stdout",
     "output_type": "stream",
     "text": [
      "Top 3 elements: {'e': 20, 'c': 15, 'a': 10}\n"
     ]
    }
   ],
   "source": [
    "def find_top_n_elements(dictionary, n):\n",
    "    sorted_items = sorted(dictionary.items(), key=lambda x: x[1], reverse=True)\n",
    "    top_n_elements = sorted_items[:n]\n",
    "    return dict(top_n_elements)\n",
    "\n",
    "my_dict = {'a': 10, 'b': 5, 'c': 15, 'd': 3, 'e': 20}\n",
    "n = 3\n",
    "top_n = find_top_n_elements(my_dict, n)\n",
    "print(\"Top\", n, \"elements:\", top_n)\n"
   ]
  },
  {
   "cell_type": "markdown",
   "id": "78369c1a",
   "metadata": {},
   "source": [
    "# 4. Write a Python program to check if two lists have any common elements."
   ]
  },
  {
   "cell_type": "code",
   "execution_count": 90,
   "id": "5fdf1163",
   "metadata": {},
   "outputs": [
    {
     "name": "stdout",
     "output_type": "stream",
     "text": [
      "List1 and List2 have common elements? True\n"
     ]
    }
   ],
   "source": [
    "def compare(list1, list2):\n",
    "    for element in list1:\n",
    "        if element in list2:\n",
    "            return True\n",
    "    return False\n",
    "\n",
    "list1 = [1, 2, 3, 4, 5]\n",
    "list2 = [6, 1, 7, 8, 9, 10]\n",
    "\n",
    "print(\"List1 and List2 have common elements?\", compare(list1, list2))\n"
   ]
  },
  {
   "cell_type": "markdown",
   "id": "1615c321",
   "metadata": {},
   "source": [
    "# 5. Write a Python program to find the intersection of two lists."
   ]
  },
  {
   "cell_type": "code",
   "execution_count": 133,
   "id": "1dcc991d",
   "metadata": {},
   "outputs": [
    {
     "name": "stdout",
     "output_type": "stream",
     "text": [
      "List1 and List2 have common elements? [1, 6]\n"
     ]
    }
   ],
   "source": [
    "def common_elements(list1, list2):\n",
    "    set1 = set(list1)\n",
    "    set2 = set(list2)\n",
    "    common_elements = set1.intersection(set2)\n",
    "    if common_elements:\n",
    "        return list(common_elements)\n",
    "    return \"No common elements\"\n",
    "list1 = [1, 2,6, 3, 4, 5]\n",
    "list2 = [6,1, 7, 8, 9, 10]\n",
    "\n",
    "print(\"List1 and List2 have common elements?\", common_elements(list1, list2))"
   ]
  },
  {
   "cell_type": "markdown",
   "id": "34e57dc4",
   "metadata": {},
   "source": [
    "# 6. Write a Python program to remove empty dictionaries from a list."
   ]
  },
  {
   "cell_type": "code",
   "execution_count": 132,
   "id": "f0cd196d",
   "metadata": {},
   "outputs": [
    {
     "name": "stdout",
     "output_type": "stream",
     "text": [
      "List of dictionaries: [{'name': 'John', 'age': 25}, {'city': 'New York'}, {'country': 'USA'}]\n"
     ]
    }
   ],
   "source": [
    "def remove_empty_dictionaries(list_of_dicts):\n",
    "    return [d for d in list_of_dicts if d]\n",
    "\n",
    "list_of_dicts = [{'name': 'John', 'age': 25}, {}, {'city': 'New York'}, {}, {'country': 'USA'}]\n",
    "updated_list = remove_empty_dictionaries(list_of_dicts)\n",
    "print(\"List of dictionaries:\", updated_list)\n"
   ]
  },
  {
   "cell_type": "markdown",
   "id": "75c33b4e",
   "metadata": {},
   "source": [
    "# 7. Write a Python program to count the number of occurrences of each word in a given sentence."
   ]
  },
  {
   "cell_type": "code",
   "execution_count": 153,
   "id": "6edc4a64",
   "metadata": {},
   "outputs": [
    {
     "name": "stdout",
     "output_type": "stream",
     "text": [
      "Word Frequency:  {'I': 2, 'love': 2, 'programming': 1, 'and': 1, 'Python': 1}\n"
     ]
    }
   ],
   "source": [
    "def count_numbers(sentence):\n",
    "    word_dict={}\n",
    "    words=sentence.split()\n",
    "    for word in words:\n",
    "        if word in word_dict:\n",
    "            word_dict[word]+=1\n",
    "        else:\n",
    "            word_dict[word]=1\n",
    "    return word_dict\n",
    "sentence = \"I love programming and I love Python\"\n",
    "word_frequency=count_numbers(sentence)\n",
    "print(\"Word Frequency: \",word_frequency)"
   ]
  },
  {
   "cell_type": "markdown",
   "id": "8f2cee41",
   "metadata": {},
   "source": [
    "# 8. Write a Python program to check if two dictionaries are equal (have the same key-value pairs)."
   ]
  },
  {
   "cell_type": "code",
   "execution_count": 174,
   "id": "0a2d32c5",
   "metadata": {},
   "outputs": [
    {
     "name": "stdout",
     "output_type": "stream",
     "text": [
      "dict1 and dict2 are equal? True\n"
     ]
    }
   ],
   "source": [
    "def compare_dict(dict1,dict2):\n",
    "    if len(dict1)!=len(dict2):\n",
    "        return False\n",
    "    for key,value in dict1.items():\n",
    "        if key not in dict2 or dict2[key]!=value:\n",
    "            return False\n",
    "    return True\n",
    "dict1={'name': 'sahad', 'age': 23, 'city': 'Kerala'}\n",
    "dict2 = {'age': 23, 'name': 'sahad', 'city': 'Kerala'}\n",
    "print(\"dict1 and dict2 are equal?\", compare_dict(dict1, dict2))"
   ]
  }
 ],
 "metadata": {
  "kernelspec": {
   "display_name": "Python 3 (ipykernel)",
   "language": "python",
   "name": "python3"
  },
  "language_info": {
   "codemirror_mode": {
    "name": "ipython",
    "version": 3
   },
   "file_extension": ".py",
   "mimetype": "text/x-python",
   "name": "python",
   "nbconvert_exporter": "python",
   "pygments_lexer": "ipython3",
   "version": "3.9.13"
  }
 },
 "nbformat": 4,
 "nbformat_minor": 5
}
