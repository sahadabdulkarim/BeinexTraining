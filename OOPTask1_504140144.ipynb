{
 "cells": [
  {
   "cell_type": "markdown",
   "id": "ed7d5847",
   "metadata": {},
   "source": [
    "1) Create a class named Student with name, score as instance attributes. Assign values to both of these attributes using a constructor.\n",
    "Create 2 Student objects. And also define a method called 'display' in the Student class - which, when called should print the name and score of the student.\n",
    "\n",
    "2) Extend the above solution and add another instance attribute called grade (should be string). Assign value to grade from within the constructor.\n",
    "The value should not be taken from user input.\n",
    "Instead use the following conditions and assign values to grade by using the value of score.\n",
    "grade = A+ if score >=90\n",
    "grade = A if score >=80 and <90\n",
    "grade = B+ if score >=70 and <80\n",
    "and so on.\n",
    "if score is below 40 then grade should be \"FAILED\"\n",
    "\n",
    "3) Extend the above solution again and add an instance method named 'get_ehs' (short for eligible for higher studies) It should return a boolean. Return True if score is 40 and above.\n",
    "Modify the 'display' method to include this EHS status also while printing.\n",
    "\n",
    "4) Extend the above solution again and add another instance method called 'as_dict'. The method should return a dictionary with the data of the student. It should contain 'name', 'score', 'grade', 'ehs_status' keys and their respective values.\n",
    "\n",
    "Create Student 2 objects and call each of its methods."
   ]
  },
  {
   "cell_type": "markdown",
   "id": "1a5a3ad3",
   "metadata": {},
   "source": [
    "# 1) Create a class named Student with name, score as instance attributes. Assign values to both of these attributes using a constructor. Create 2 Student objects. And also define a method called 'display' in the Student class - which, when called should print the name and score of the student."
   ]
  },
  {
   "cell_type": "code",
   "execution_count": 8,
   "id": "826789c4",
   "metadata": {},
   "outputs": [
    {
     "name": "stdout",
     "output_type": "stream",
     "text": [
      "Name:  Sahad\n",
      "Score:  85 \n",
      "\n",
      "Name:  Karim\n",
      "Score:  92 \n",
      "\n"
     ]
    }
   ],
   "source": [
    "class Student:\n",
    "    def __init__(self,name,score):\n",
    "        self.name=name\n",
    "        self.score=score\n",
    "    def display(self):\n",
    "        print(\"Name: \",self.name)\n",
    "        print(\"Score: \",self.score,\"\\n\")\n",
    "        \n",
    "student1 = Student(\"Sahad\", 85)\n",
    "student2 = Student(\"Karim\", 92)\n",
    "student1.display()\n",
    "student2.display()"
   ]
  },
  {
   "cell_type": "markdown",
   "id": "1a8f90e5",
   "metadata": {},
   "source": [
    "# 2) Extend the above solution and add another instance attribute called grade (should be string). Assign value to grade from within the constructor. The value should not be taken from user input. Instead use the following conditions and assign values to grade by using the value of score. grade = A+ if score >=90 grade = A if score >=80 and <90 grade = B+ if score >=70 and <80 and so on. if score is below 40 then grade should be \"FAILED\""
   ]
  },
  {
   "cell_type": "code",
   "execution_count": 19,
   "id": "07748ca8",
   "metadata": {},
   "outputs": [
    {
     "name": "stdout",
     "output_type": "stream",
     "text": [
      "Name:  Sahad\n",
      "Score:  85\n",
      "Grade:  A \n",
      "\n",
      "Name:  Karim\n",
      "Score:  60\n",
      "Grade:  B \n",
      "\n"
     ]
    }
   ],
   "source": [
    "class Student:\n",
    "    def __init__(self,name,score):\n",
    "        self.name=name\n",
    "        self.score=score\n",
    "        self.grade=self.calculate_grade()\n",
    "    def calculate_grade(self):\n",
    "        if self.score >= 90:\n",
    "            return \"A+\"\n",
    "        elif self.score >= 80:\n",
    "            return \"A\"\n",
    "        elif self.score >= 70:\n",
    "            return \"B+\"\n",
    "        elif self.score >= 60:\n",
    "            return \"B\"\n",
    "        elif self.score >= 50:\n",
    "            return \"C\"\n",
    "        elif self.score >= 40:\n",
    "            return \"D\"\n",
    "        else:\n",
    "            return \"FAILED\"\n",
    "    def display(self):\n",
    "        print(\"Name: \",self.name)\n",
    "        print(\"Score: \",self.score)\n",
    "        print(\"Grade: \", self.grade,\"\\n\")\n",
    "        \n",
    "student1 = Student(\"Sahad\", 85)\n",
    "student2 = Student(\"Karim\", 60)\n",
    "student1.display()\n",
    "student2.display()"
   ]
  },
  {
   "cell_type": "markdown",
   "id": "fe57121f",
   "metadata": {},
   "source": [
    "# 3) Extend the above solution again and add an instance method named 'get_ehs' (short for eligible for higher studies) It should return a boolean. Return True if score is 40 and above. Modify the 'display' method to include this EHS status also while printing."
   ]
  },
  {
   "cell_type": "code",
   "execution_count": 40,
   "id": "d72ecbce",
   "metadata": {},
   "outputs": [
    {
     "name": "stdout",
     "output_type": "stream",
     "text": [
      "Name:  Sahad\n",
      "Score:  85\n",
      "Grade:  A\n",
      "Eligible for Higher Studies:  True \n",
      "\n",
      "Name:  Karim\n",
      "Score:  39\n",
      "Grade:  FAILED\n",
      "Eligible for Higher Studies:  False \n",
      "\n"
     ]
    }
   ],
   "source": [
    "class Student:\n",
    "    def __init__(self,name,score):\n",
    "        self.name=name\n",
    "        self.score=score\n",
    "        self.grade=self.calculate_grade()\n",
    "        \n",
    "    def calculate_grade(self):\n",
    "        if self.score >= 90:\n",
    "            return \"A+\"\n",
    "        elif self.score >= 80:\n",
    "            return \"A\"\n",
    "        elif self.score >= 70:\n",
    "            return \"B+\"\n",
    "        elif self.score >= 60:\n",
    "            return \"B\"\n",
    "        elif self.score >= 50:\n",
    "            return \"C\"\n",
    "        elif self.score >= 40:\n",
    "            return \"D\"\n",
    "        else:\n",
    "            return \"FAILED\"\n",
    "        \n",
    "    def get_ehs(self):\n",
    "        return self.score >= 40\n",
    "    \n",
    "    def display(self):\n",
    "        print(\"Name: \",self.name)\n",
    "        print(\"Score: \",self.score)\n",
    "        print(\"Grade: \", self.grade)\n",
    "        print(\"Eligible for Higher Studies: \",self.get_ehs(),\"\\n\")\n",
    "        \n",
    "student1 = Student(\"Sahad\", 85)\n",
    "student2 = Student(\"Karim\", 39)\n",
    "student1.display()\n",
    "student2.display()"
   ]
  },
  {
   "cell_type": "markdown",
   "id": "a2a8bb54",
   "metadata": {},
   "source": [
    "# 4) Extend the above solution again and add another instance method called 'as_dict'. The method should return a dictionary with the data of the student. It should contain 'name', 'score', 'grade', 'ehs_status' keys and their respective values.Create Student 2 objects and call each of its methods."
   ]
  },
  {
   "cell_type": "code",
   "execution_count": 50,
   "id": "5ef8c461",
   "metadata": {},
   "outputs": [
    {
     "name": "stdout",
     "output_type": "stream",
     "text": [
      "Name:  Sahad\n",
      "Score:  85\n",
      "Grade:  A\n",
      "Eligible for Higher Studies:  True\n",
      "{'name': 'Sahad', 'score': 85, 'ehs_status': True}\n",
      "\n",
      "\n",
      "Name:  Karim\n",
      "Score:  39\n",
      "Grade:  FAILED\n",
      "Eligible for Higher Studies:  False\n",
      "{'name': 'Karim', 'score': 39, 'ehs_status': False}\n"
     ]
    }
   ],
   "source": [
    "class Student:\n",
    "    def __init__(self,name,score):\n",
    "        self.name=name\n",
    "        self.score=score\n",
    "        self.grade=self.calculate_grade()\n",
    "        \n",
    "    def calculate_grade(self):\n",
    "        if self.score >= 90:\n",
    "            return \"A+\"\n",
    "        elif self.score >= 80:\n",
    "            return \"A\"\n",
    "        elif self.score >= 70:\n",
    "            return \"B+\"\n",
    "        elif self.score >= 60:\n",
    "            return \"B\"\n",
    "        elif self.score >= 50:\n",
    "            return \"C\"\n",
    "        elif self.score >= 40:\n",
    "            return \"D\"\n",
    "        else:\n",
    "            return \"FAILED\"\n",
    "        \n",
    "    def get_ehs(self):\n",
    "        return self.score >= 40\n",
    "    \n",
    "    def as_dict(self):\n",
    "        dictionary={'name':self.name,\n",
    "                   'score':self.score,\n",
    "                   'ehs_status':self.get_ehs()\n",
    "                   }\n",
    "        return dictionary\n",
    "    \n",
    "    def display(self):\n",
    "        print(\"Name: \",self.name)\n",
    "        print(\"Score: \",self.score)\n",
    "        print(\"Grade: \", self.grade)\n",
    "        print(\"Eligible for Higher Studies: \",self.get_ehs())\n",
    "        \n",
    "student1 = Student(\"Sahad\", 85)\n",
    "student2 = Student(\"Karim\", 39)\n",
    "student1.display()\n",
    "print(student1.as_dict())\n",
    "print(\"\\n\")\n",
    "student2.display()\n",
    "print(student2.as_dict())"
   ]
  }
 ],
 "metadata": {
  "kernelspec": {
   "display_name": "Python 3 (ipykernel)",
   "language": "python",
   "name": "python3"
  },
  "language_info": {
   "codemirror_mode": {
    "name": "ipython",
    "version": 3
   },
   "file_extension": ".py",
   "mimetype": "text/x-python",
   "name": "python",
   "nbconvert_exporter": "python",
   "pygments_lexer": "ipython3",
   "version": "3.9.13"
  }
 },
 "nbformat": 4,
 "nbformat_minor": 5
}
